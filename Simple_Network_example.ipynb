{
 "cells": [
  {
   "cell_type": "code",
   "execution_count": 130,
   "metadata": {
    "ExecuteTime": {
     "end_time": "2020-04-04T14:55:42.345036Z",
     "start_time": "2020-04-04T14:55:42.212224Z"
    }
   },
   "outputs": [],
   "source": [
    "%matplotlib inline"
   ]
  },
  {
   "cell_type": "code",
   "execution_count": 196,
   "metadata": {
    "ExecuteTime": {
     "end_time": "2020-04-04T14:55:42.779175Z",
     "start_time": "2020-04-04T14:55:42.346176Z"
    }
   },
   "outputs": [
    {
     "name": "stdout",
     "output_type": "stream",
     "text": [
      "cuda\n"
     ]
    }
   ],
   "source": [
    "# Imports, nothing exciting here!\n",
    "import matplotlib.pyplot as plt\n",
    "import pandas as pd\n",
    "from tqdm.notebook import tqdm\n",
    "import torch\n",
    "import torch.nn\n",
    "import torch.nn.functional as F\n",
    "import sys\n",
    "\n",
    "# if gpu is to be used\n",
    "device = torch.device(\"cuda\" if torch.cuda.is_available() else \"cpu\")\n",
    "print(device)\n",
    "\n",
    "from sith import SITH\n",
    "\n",
    "# You might need to install seaborn if you haven't already\n",
    "import seaborn as sns\n",
    "import matplotlib.pyplot as plt\n",
    "import seaborn as sn\n",
    "sn.set_context(\"poster\")"
   ]
  },
  {
   "cell_type": "markdown",
   "metadata": {},
   "source": []
  },
  {
   "cell_type": "markdown",
   "metadata": {},
   "source": [
    "**GOAL: Learn to predict what letter is coming next given the context of the entire set of letters that came before it.**\n",
    "\n",
    "In this notebook, we will be covering two models, one with a buffer representation of *history* and one with a SITH representation of history, while they attempt to learn to predict the next item in a predefined sequence. The sequence in this case is the speech about the Sith Lord Darth Plagueis the Wise from Star Wars Episode 3. Individual letters will be presented to the model, one at a time as tokenized one-hot vectors, and the model will have to generate a prediction of what letter should occur next via a log probability. The letter assigned the highest probability is the one that the model has chosen to occur next.  \n",
    "\n",
    "This notebook is broken up into a few sections. The first is a data pre-processing section where we clean the entire speach and break tokenize it for input to the model. Then we will define a pytorch model with a buffer as the representation of context. Then we will train and test the buffer model, showing graphs of the loss over some number of epochs, as well as the accuracty of predicting the next letter in the speech over some number of epochs. These cells will also show what letter the model is predicting as each letter is being presented to it, once it is fully trained. \n",
    "\n",
    "After going over the buffer model, we will replace the buffer with a SITH representation and do the whole process again. The code that trains and tests the model will not change, the only change will be the replacement of the internal buffer of the model with a SITH representation."
   ]
  },
  {
   "cell_type": "markdown",
   "metadata": {},
   "source": [
    "# Initialize \"Corpus\"\n",
    "\n",
    "Set up the corpus, tokenize the input, and create a list of the target letters"
   ]
  },
  {
   "cell_type": "code",
   "execution_count": 220,
   "metadata": {
    "ExecuteTime": {
     "end_time": "2020-04-04T14:55:44.500329Z",
     "start_time": "2020-04-04T14:55:42.780323Z"
    },
    "scrolled": true
   },
   "outputs": [],
   "source": [
    "# Define what goes at the end of a sentence, and what comes in the middle of \n",
    "# sentences\n",
    "sentence_enders = [\"?\", \".\", \"!\"]\n",
    "separators = [\"\\'\", \",\"]\n",
    "\n",
    "# These are all of the tokens included in the stimuli that our model will be \n",
    "# seeing\n",
    "letters = list(\"abcdefghijklmnopqrstuvwxyz\".upper()) + [\"<,>\", \".\", \" \"]\n",
    "\n",
    "# create letter ids for the tokenizer function later\n",
    "let_to_id = {s:x for x,s in enumerate(letters)}\n",
    "# create a lookup table for model verification later\n",
    "id_to_let = dict([[v,k] for k,v in let_to_id.items()])\n",
    "\n",
    "# Read in the entire text\n",
    "full_text = open(\"plagueis.txt\", \"r\").read()\n",
    "\n",
    "# Make them all captical letters, and remove ellipsis. Add space before each \n",
    "# sentence ender and sentence separator\n",
    "full_text = full_text.upper()\n",
    "full_text = full_text.replace(\"...\", \".\")\n",
    "full_text = full_text.replace(\".\", \" .\")\n",
    "full_text = full_text.replace(\"?\", \" ?\")\n",
    "full_text = full_text.replace(\",\", \" ,\")\n",
    "full_test = full_text.replace(\"\\'\", \" \\'\")\n",
    "\n",
    "# split into individual words\n",
    "split_text = full_text.split()\n",
    "\n",
    "master_list = []\n",
    "id_list = []\n",
    "\n",
    "# Generate list of letter id's to be turned into 1-hot vectors by a \n",
    "# tokenizing function. The letter A has the id 0. The letter Z is 25. etc. \n",
    "for s in split_text:\n",
    "    # loop over each letter in each word\n",
    "    for l in s:\n",
    "        if l in sentence_enders:\n",
    "            master_list.append(\".\")\n",
    "            id_list.append(let_to_id[\".\"])\n",
    "        elif l in separators:\n",
    "            master_list.append(\"<,>\")\n",
    "            id_list.append(let_to_id[\"<,>\"])\n",
    "        else:\n",
    "            master_list.append(l)\n",
    "            id_list.append(let_to_id[l])\n",
    "    # add a space after each word and after each sentence modifier\n",
    "    master_list.append(\" \")\n",
    "    id_list.append(let_to_id[\" \"])\n",
    "\n",
    "# tokenizing funciton, turns each letter into \n",
    "def tokenize(inp_list, num_tokens=10):\n",
    "    output = torch.zeros(len(inp_list), num_tokens, 1).type(torch.DoubleTensor)\n",
    "    for i, inp in enumerate(inp_list):\n",
    "        output[i, inp, 0] = 1.0\n",
    "    return output\n",
    "\n",
    "\n",
    "tokens = torch.DoubleTensor(id_list).view(-1, 1)"
   ]
  },
  {
   "cell_type": "markdown",
   "metadata": {},
   "source": [
    "# Training and testing functions Function"
   ]
  },
  {
   "cell_type": "code",
   "execution_count": 248,
   "metadata": {},
   "outputs": [],
   "source": [
    "def train_model(model, tokens,\n",
    "                optimizer,\n",
    "                loss_func,\n",
    "                epochs=1500):\n",
    "    loss_track = {\"val\":[],\n",
    "                  \"epoch\":[],\n",
    "                  \"batch_num\":[],\n",
    "                  \"last_correct\":[],\n",
    "                  \"name\":[]}\n",
    "    \n",
    "    \n",
    "    # size, batch size. \n",
    "    inps = tokens[:-1].type(torch.cuda.LongTensor)\n",
    "    targets = tokens[1:, 0].type(torch.cuda.LongTensor)\n",
    "    progress_bar = tqdm(range(int(epochs)))\n",
    "    \n",
    "    for e in progress_bar:\n",
    "        model.zero_grad()\n",
    "        \n",
    "        # Present an entire batch to the model\n",
    "        out = model(inps)\n",
    "        # Measure loss via Negative Log Likelyhood\n",
    "        loss = loss_func(out, targets)\n",
    "        loss.backward()\n",
    "        optimizer.step()\n",
    "        \n",
    "        # Record loss, epoch number, batch number in epoch, \n",
    "        # last accuracy measure, etc\n",
    "        loss_track['val'].append(loss.mean().detach().cpu().numpy())\n",
    "        loss_track['epoch'].append(e)\n",
    "        loss_track['batch_num'].append(c)\n",
    "        loss_track['name'].append(model.__class__.__name__)\n",
    "        \n",
    "        acc = test_model(model, tokens)\n",
    "        loss_track['last_correct'].append(acc)\n",
    "        \n",
    "        # Update progress_bar\n",
    "        progress_bar.set_description(\"%i: Loss: %0.6f, Acc: %0.4f\" % (e, loss_track['val'][-1], acc))\n",
    "        \n",
    "    return loss_track\n",
    "\n",
    "def test_model(model, tokens):\n",
    "    # Test for accuracy\n",
    "    \n",
    "    inps = tokens[:-1].type(torch.cuda.LongTensor)\n",
    "    targets = tokens[1:,0].type(torch.cuda.LongTensor)\n",
    "    \n",
    "    out = model(inps)\n",
    "\n",
    "    # Accuracy: If the maximum value in the output is at the same\n",
    "    # position as the target id for that input token, then we count it as\n",
    "    # a correct response\n",
    "    correct = (out.argmax(-1) == targets).sum().detach().cpu().numpy()\n",
    "    t = inps.shape[0]\n",
    "\n",
    "    acc = correct/t\n",
    "    return acc"
   ]
  },
  {
   "cell_type": "markdown",
   "metadata": {},
   "source": [
    "# Define the Models"
   ]
  },
  {
   "cell_type": "markdown",
   "metadata": {},
   "source": [
    "## Buffer"
   ]
  },
  {
   "cell_type": "code",
   "execution_count": 214,
   "metadata": {},
   "outputs": [],
   "source": [
    "class BufferLetterModel(torch.nn.Module):\n",
    "    def __init__(self, buffer_size, num_tokens, \n",
    "                 embedding_feat, hidden_size,\n",
    "                 buff_cuda=True):\n",
    "        super(BufferLetterModel, self).__init__()\n",
    "        \n",
    "        self._buff_cuda = buff_cuda\n",
    "        \n",
    "        self.letter_embeddings = torch.nn.Embedding(num_tokens, embedding_feat)\n",
    "        self._buffer = torch.zeros((buffer_size, embedding_feat), \n",
    "                                   requires_grad=False).type(torch.DoubleTensor)\n",
    "        if buff_cuda:\n",
    "            self._buffer = self._buffer.type(torch.cuda.DoubleTensor)\n",
    "            \n",
    "        self.linear1 = torch.nn.Linear(embedding_feat*buffer_size, hidden_size)\n",
    "        self.linear2 = torch.nn.Linear(hidden_size, num_tokens)\n",
    "        \n",
    "    def forward(self, inputs):\n",
    "        if self._buff_cuda:\n",
    "            self._buffer = torch.zeros_like(self._buffer).cuda(device=self._buffer.device)\n",
    "        batch_size = inputs.shape[0]\n",
    "        \n",
    "        output_tensor = torch.zeros(batch_size, \n",
    "                                    self._buffer.shape[0],\n",
    "                                    self._buffer.shape[1]).type(torch.DoubleTensor)\n",
    "        if self._buff_cuda:\n",
    "            output_tensor = output_tensor.cuda(device=self._buffer.device)\n",
    "        embeds = self.letter_embeddings(inputs)\n",
    "        c = 0\n",
    "        for x in embeds.split(1, dim=0):\n",
    "            self._buffer[1:] = self._buffer[:-1].clone()\n",
    "            self._buffer[0] = x.squeeze(0)\n",
    "            output_tensor[c, :, :] = self._buffer.clone()\n",
    "            c += 1\n",
    "        \n",
    "        output_tensor = self.linear1(output_tensor.view(batch_size, -1))\n",
    "        output_tensor = self.linear2(output_tensor)\n",
    "        return output_tensor"
   ]
  },
  {
   "cell_type": "markdown",
   "metadata": {},
   "source": [
    "##  SITH"
   ]
  },
  {
   "cell_type": "markdown",
   "metadata": {},
   "source": [
    "### Test the SITH parameters\n",
    "\n",
    "Here, you can pick parameters to be used further down in the model. The parameters for a sith layer are as follows:\n",
    "\n",
    "    Parameters\n",
    "    ----------\n",
    "    in_features: int\n",
    "        Number of tracked features\n",
    "    tau_min: float (default = 1)\n",
    "        The center of the FIRST receptive field in inverse-Lapace space. The\n",
    "        presentation time of each stimulus.\n",
    "    tau_max: float (default = 20)\n",
    "        The center of the LAST receptive field in inverse-Lapace space. The\n",
    "        presentation time of each stimulus.\n",
    "    k: int (default = 4)\n",
    "        The spcificity of the receptive fields\n",
    "    g: float (defaut = 1.0)\n",
    "        Indicates whether to scale the output by taustar, keeping activation\n",
    "        level the same across taustar\n",
    "    alpha: float (default = 1.0)\n",
    "        Rate of change in Laplace domain.\n",
    "    ntau: int (default = 100)\n",
    "        The desired number of taustars in the final representation, before\n",
    "        indexing with T_every\n",
    "    T_every: int\n",
    "        How many tau*s we skip when indexing into the inverse-laplace space\n",
    "        representation, T.\n",
    "\n",
    "This cell will print out a variable called *taustars*. This variable contains the centers of the receptive fields that will be in the output of this layer. When utilizing a SITH layer, pick parameters that give you taustar locations that extend far enough into the past that all relavent information for doing the task will be contained within the SITH representation.  \n",
    "\n",
    "For instance, if you think that there is useful information for your model contained in the inputs that happened 100 inputs into the past, then you need to make sure that your taustars at least go to 100, if not further out. \n",
    "\n",
    "Below, we have a sith-rep set up such that it can track every single letter, and the 3 additional symbol tokens, for more that 761 inputs. But instead of tracking the exact order of these 761+ inputs, we follow weiner vecner scaling laws in our compression turning 761 time points into a log compressed representation with 18 taustars. These taustars have high temporal specificity for the early taustars, and more sparce temporal specificity for the later taustars. \n",
    "\n",
    "Changing tau_min changes where the first taustar will be located in time. Changing tau_max changes where the last taustar is located in time. \n",
    "\n",
    "Increasing K will increase the temporal specificity of all taustars.\n",
    "\n",
    "ntau is the total number of taustars that will be tracked and generated by the model. This number is much larger than the number of taustars that will be outputed to the next layer of your model, however. A lot of them are basically redundent, so we index into all of the taustars by skipping every T_every positions. "
   ]
  },
  {
   "cell_type": "code",
   "execution_count": 199,
   "metadata": {},
   "outputs": [],
   "source": [
    "class SITHLetterModel(torch.nn.Module):\n",
    "    \"\"\"input shape: (sequence, 1)\"\"\"\n",
    "    def __init__(self, sith_params, num_tokens, hidden_size, sith_cuda=True):\n",
    "        super(SITHLetterModel, self).__init__()\n",
    "        \n",
    "        self.word_embeddings = torch.nn.Embedding(num_tokens, sith_params['in_features'])\n",
    "        \n",
    "        self.sith = SITH(**sith_params)\n",
    "        if sith_cuda:\n",
    "            self.sith.cuda()\n",
    "        \n",
    "        num_taustars = self.sith._tau_star.shape[0]\n",
    "        \n",
    "        self.linear1 = torch.nn.Linear(sith_params['in_features']*num_taustars, hidden_size)\n",
    "        self.linear2 = torch.nn.Linear(hidden_size, num_tokens)\n",
    "    \n",
    "    def forward(self, inputs):\n",
    "        self.sith.reset()\n",
    "        \n",
    "        batch_size = inputs.shape[0]\n",
    "        \n",
    "        embeds = self.word_embeddings(inputs)\n",
    "        x = self.sith(embeds.squeeze(1)).view(batch_size, -1)\n",
    "        x = self.linear1(x)\n",
    "        x = self.linear2(x)\n",
    "        \n",
    "        return x"
   ]
  },
  {
   "cell_type": "markdown",
   "metadata": {},
   "source": [
    "## LSTM"
   ]
  },
  {
   "cell_type": "code",
   "execution_count": 200,
   "metadata": {},
   "outputs": [],
   "source": [
    "class LSTMTagger(torch.nn.Module):\n",
    "\n",
    "    def __init__(self, embedding_dim, hidden_dim, vocab_size):\n",
    "        super(LSTMTagger, self).__init__()\n",
    "        \n",
    "        self.hidden_dim = hidden_dim\n",
    "\n",
    "        self.word_embeddings = torch.nn.Embedding(vocab_size, embedding_dim)\n",
    "\n",
    "        # The LSTM takes word embeddings as inputs, and outputs hidden states\n",
    "        # with dimensionality hidden_dim.\n",
    "        self.lstm = torch.nn.LSTM(embedding_dim, hidden_dim)\n",
    "\n",
    "        # The linear layer that maps from hidden state space to tag space\n",
    "        self.hidden2tag = torch.nn.Linear(hidden_dim, vocab_size)\n",
    "\n",
    "    def forward(self, sentence):\n",
    "        embeds = self.word_embeddings(sentence)\n",
    "        lstm_out, _ = self.lstm(embeds.view(len(sentence), 1, -1))\n",
    "        tag_space = self.hidden2tag(lstm_out.view(len(sentence), -1))\n",
    "        \n",
    "        return tag_space"
   ]
  },
  {
   "cell_type": "markdown",
   "metadata": {},
   "source": [
    "# Define the Models"
   ]
  },
  {
   "cell_type": "code",
   "execution_count": 215,
   "metadata": {},
   "outputs": [],
   "source": [
    "rep_size = 8\n",
    "hidden_size = 50\n",
    "embed_size = 15"
   ]
  },
  {
   "cell_type": "code",
   "execution_count": 216,
   "metadata": {
    "ExecuteTime": {
     "end_time": "2020-04-04T14:55:50.854222Z",
     "start_time": "2020-04-04T14:55:50.848368Z"
    }
   },
   "outputs": [
    {
     "name": "stdout",
     "output_type": "stream",
     "text": [
      "BufferLetterModel(\n",
      "  (letter_embeddings): Embedding(29, 15)\n",
      "  (linear1): Linear(in_features=120, out_features=50, bias=True)\n",
      "  (linear2): Linear(in_features=50, out_features=29, bias=True)\n",
      ")\n"
     ]
    }
   ],
   "source": [
    "buff_model = BufferLetterModel(buffer_size=rep_size, \n",
    "                              num_tokens=len(list(let_to_id.keys())),\n",
    "                              embedding_feat=embed_size,\n",
    "                              hidden_size=hidden_size).double().cuda()\n",
    "print(buff_model)"
   ]
  },
  {
   "cell_type": "code",
   "execution_count": 203,
   "metadata": {},
   "outputs": [
    {
     "name": "stdout",
     "output_type": "stream",
     "text": [
      "[ 1.          1.64074696  2.6920506   4.41697386  7.24713645 11.89071713\n",
      " 19.50965805 32.01041223]\n",
      "SITHLetterModel(\n",
      "  (word_embeddings): Embedding(29, 15)\n",
      "  (sith): SITH(\n",
      "    (lap): Laplace()\n",
      "  )\n",
      "  (linear1): Linear(in_features=135, out_features=50, bias=True)\n",
      "  (linear2): Linear(in_features=50, out_features=29, bias=True)\n",
      ")\n"
     ]
    }
   ],
   "source": [
    "sith_params ={\"in_features\":embed_size,\n",
    "              \"tau_min\":1, \"tau_max\":40, \"k\":10,\n",
    "              \"ntau\":150, \"g\":0.0,\n",
    "              # we want 8 taustars, so we divide the ntau by the\n",
    "              # rep_size to get our desired T_every\n",
    "              \"T_every\":int(150/rep_size), \"alpha\":1.0, 'ttype':torch.cuda.DoubleTensor}\n",
    "# This is only for making sure you pick the right parameters\n",
    "sith_model = SITHLetterModel(sith_params=sith_params, \n",
    "                             num_tokens=len(list(let_to_id.keys())), \n",
    "                             hidden_size=hidden_size).cuda().double()\n",
    "taustars = sithrep._tau_star.detach().cpu().numpy()\n",
    "print(taustars)\n",
    "print(sith_model)"
   ]
  },
  {
   "cell_type": "code",
   "execution_count": 204,
   "metadata": {},
   "outputs": [
    {
     "name": "stdout",
     "output_type": "stream",
     "text": [
      "LSTMTagger(\n",
      "  (word_embeddings): Embedding(29, 15)\n",
      "  (lstm): LSTM(15, 50)\n",
      "  (hidden2tag): Linear(in_features=50, out_features=29, bias=True)\n",
      ")\n"
     ]
    }
   ],
   "source": [
    "lstm_model = LSTMTagger(embedding_dim=embed_size, \n",
    "                        hidden_dim=hidden_size, \n",
    "                        vocab_size=len(list(let_to_id.keys()))).cuda().double()\n",
    "print(lstm_model)"
   ]
  },
  {
   "cell_type": "markdown",
   "metadata": {},
   "source": [
    "# Train and Test each model!"
   ]
  },
  {
   "cell_type": "code",
   "execution_count": null,
   "metadata": {},
   "outputs": [
    {
     "name": "stdout",
     "output_type": "stream",
     "text": [
      "Starting Buff\n"
     ]
    },
    {
     "data": {
      "application/vnd.jupyter.widget-view+json": {
       "model_id": "570a7ef880b74a94aa6b68b7adb4242d",
       "version_major": 2,
       "version_minor": 0
      },
      "text/plain": [
       "HBox(children=(FloatProgress(value=0.0, max=1500.0), HTML(value='')))"
      ]
     },
     "metadata": {},
     "output_type": "display_data"
    }
   ],
   "source": [
    "lf = torch.nn.CrossEntropyLoss()\n",
    "\n",
    "print(\"Starting Buff\")\n",
    "optim = torch.optim.Adam(buff_model.parameters())\n",
    "perf_buff = train_model(buff_model, tokens, optimizer=optim, loss_func=lf, epochs=1500)\n",
    "\n",
    "print(\"Starting SITH\")\n",
    "optim = torch.optim.Adam(sith_model.parameters())\n",
    "perf_sith = train_model(sith_model, tokens, optimizer=optim, loss_func=lf, epochs=1500)\n",
    "\n",
    "print(\"Starting LSTM\")\n",
    "optim = torch.optim.Adam(lstm_model.parameters())\n",
    "perf_lstm = train_model(lstm_model, tokens, optimizer=optim, loss_func=lf, epochs=1500)\n"
   ]
  },
  {
   "cell_type": "code",
   "execution_count": 127,
   "metadata": {
    "ExecuteTime": {
     "end_time": "2020-04-04T15:01:47.830774Z",
     "start_time": "2020-04-04T14:55:50.854939Z"
    },
    "scrolled": false
   },
   "outputs": [
    {
     "name": "stderr",
     "output_type": "stream",
     "text": [
      "C:\\Users\\caboodle513\\anaconda3\\lib\\site-packages\\ipykernel_launcher.py:3: TqdmDeprecationWarning: This function will be removed in tqdm==5.0.0\n",
      "Please use `tqdm.notebook.tqdm` instead of `tqdm.tqdm_notebook`\n",
      "  This is separate from the ipykernel package so we can avoid doing imports until\n"
     ]
    },
    {
     "data": {
      "application/vnd.jupyter.widget-view+json": {
       "model_id": "57ef61a13b8348f6b4037b0739a87df6",
       "version_major": 2,
       "version_minor": 0
      },
      "text/plain": [
       "HBox(children=(FloatProgress(value=0.0, max=3000.0), HTML(value='')))"
      ]
     },
     "metadata": {},
     "output_type": "display_data"
    },
    {
     "ename": "KeyboardInterrupt",
     "evalue": "",
     "output_type": "error",
     "traceback": [
      "\u001b[1;31m---------------------------------------------------------------------------\u001b[0m",
      "\u001b[1;31mKeyboardInterrupt\u001b[0m                         Traceback (most recent call last)",
      "\u001b[1;32m<ipython-input-127-31f0a42f3560>\u001b[0m in \u001b[0;36m<module>\u001b[1;34m\u001b[0m\n\u001b[0;32m     11\u001b[0m         \u001b[0mtargets\u001b[0m \u001b[1;33m=\u001b[0m \u001b[0minp_and_tok\u001b[0m\u001b[1;33m[\u001b[0m\u001b[1;33m:\u001b[0m\u001b[1;33m,\u001b[0m \u001b[1;33m-\u001b[0m\u001b[1;36m1\u001b[0m\u001b[1;33m,\u001b[0m \u001b[1;36m0\u001b[0m\u001b[1;33m]\u001b[0m\u001b[1;33m.\u001b[0m\u001b[0mtype\u001b[0m\u001b[1;33m(\u001b[0m\u001b[0mtorch\u001b[0m\u001b[1;33m.\u001b[0m\u001b[0mcuda\u001b[0m\u001b[1;33m.\u001b[0m\u001b[0mLongTensor\u001b[0m\u001b[1;33m)\u001b[0m\u001b[1;33m\u001b[0m\u001b[1;33m\u001b[0m\u001b[0m\n\u001b[0;32m     12\u001b[0m         \u001b[0mmodel\u001b[0m\u001b[1;33m.\u001b[0m\u001b[0mzero_grad\u001b[0m\u001b[1;33m(\u001b[0m\u001b[1;33m)\u001b[0m\u001b[1;33m\u001b[0m\u001b[1;33m\u001b[0m\u001b[0m\n\u001b[1;32m---> 13\u001b[1;33m         \u001b[0mout\u001b[0m \u001b[1;33m=\u001b[0m \u001b[0mmodel\u001b[0m\u001b[1;33m(\u001b[0m\u001b[0minps\u001b[0m\u001b[1;33m)\u001b[0m\u001b[1;33m\u001b[0m\u001b[1;33m\u001b[0m\u001b[0m\n\u001b[0m\u001b[0;32m     14\u001b[0m         \u001b[0mloss\u001b[0m \u001b[1;33m=\u001b[0m \u001b[0mloss_func\u001b[0m\u001b[1;33m(\u001b[0m\u001b[0mout\u001b[0m\u001b[1;33m,\u001b[0m \u001b[0mtargets\u001b[0m\u001b[1;33m)\u001b[0m\u001b[1;33m\u001b[0m\u001b[1;33m\u001b[0m\u001b[0m\n\u001b[0;32m     15\u001b[0m         \u001b[0mloss\u001b[0m\u001b[1;33m.\u001b[0m\u001b[0mbackward\u001b[0m\u001b[1;33m(\u001b[0m\u001b[1;33m)\u001b[0m\u001b[1;33m\u001b[0m\u001b[1;33m\u001b[0m\u001b[0m\n",
      "\u001b[1;32m~\\anaconda3\\lib\\site-packages\\torch\\nn\\modules\\module.py\u001b[0m in \u001b[0;36m__call__\u001b[1;34m(self, *input, **kwargs)\u001b[0m\n\u001b[0;32m    548\u001b[0m             \u001b[0mresult\u001b[0m \u001b[1;33m=\u001b[0m \u001b[0mself\u001b[0m\u001b[1;33m.\u001b[0m\u001b[0m_slow_forward\u001b[0m\u001b[1;33m(\u001b[0m\u001b[1;33m*\u001b[0m\u001b[0minput\u001b[0m\u001b[1;33m,\u001b[0m \u001b[1;33m**\u001b[0m\u001b[0mkwargs\u001b[0m\u001b[1;33m)\u001b[0m\u001b[1;33m\u001b[0m\u001b[1;33m\u001b[0m\u001b[0m\n\u001b[0;32m    549\u001b[0m         \u001b[1;32melse\u001b[0m\u001b[1;33m:\u001b[0m\u001b[1;33m\u001b[0m\u001b[1;33m\u001b[0m\u001b[0m\n\u001b[1;32m--> 550\u001b[1;33m             \u001b[0mresult\u001b[0m \u001b[1;33m=\u001b[0m \u001b[0mself\u001b[0m\u001b[1;33m.\u001b[0m\u001b[0mforward\u001b[0m\u001b[1;33m(\u001b[0m\u001b[1;33m*\u001b[0m\u001b[0minput\u001b[0m\u001b[1;33m,\u001b[0m \u001b[1;33m**\u001b[0m\u001b[0mkwargs\u001b[0m\u001b[1;33m)\u001b[0m\u001b[1;33m\u001b[0m\u001b[1;33m\u001b[0m\u001b[0m\n\u001b[0m\u001b[0;32m    551\u001b[0m         \u001b[1;32mfor\u001b[0m \u001b[0mhook\u001b[0m \u001b[1;32min\u001b[0m \u001b[0mself\u001b[0m\u001b[1;33m.\u001b[0m\u001b[0m_forward_hooks\u001b[0m\u001b[1;33m.\u001b[0m\u001b[0mvalues\u001b[0m\u001b[1;33m(\u001b[0m\u001b[1;33m)\u001b[0m\u001b[1;33m:\u001b[0m\u001b[1;33m\u001b[0m\u001b[1;33m\u001b[0m\u001b[0m\n\u001b[0;32m    552\u001b[0m             \u001b[0mhook_result\u001b[0m \u001b[1;33m=\u001b[0m \u001b[0mhook\u001b[0m\u001b[1;33m(\u001b[0m\u001b[0mself\u001b[0m\u001b[1;33m,\u001b[0m \u001b[0minput\u001b[0m\u001b[1;33m,\u001b[0m \u001b[0mresult\u001b[0m\u001b[1;33m)\u001b[0m\u001b[1;33m\u001b[0m\u001b[1;33m\u001b[0m\u001b[0m\n",
      "\u001b[1;32m<ipython-input-125-408964fc46d5>\u001b[0m in \u001b[0;36mforward\u001b[1;34m(self, inputs)\u001b[0m\n\u001b[0;32m     26\u001b[0m             \u001b[0mself\u001b[0m\u001b[1;33m.\u001b[0m\u001b[0m_buffer\u001b[0m\u001b[1;33m[\u001b[0m\u001b[1;36m1\u001b[0m\u001b[1;33m:\u001b[0m\u001b[1;33m]\u001b[0m \u001b[1;33m=\u001b[0m \u001b[0mself\u001b[0m\u001b[1;33m.\u001b[0m\u001b[0m_buffer\u001b[0m\u001b[1;33m[\u001b[0m\u001b[1;33m:\u001b[0m\u001b[1;33m-\u001b[0m\u001b[1;36m1\u001b[0m\u001b[1;33m]\u001b[0m\u001b[1;33m.\u001b[0m\u001b[0mclone\u001b[0m\u001b[1;33m(\u001b[0m\u001b[1;33m)\u001b[0m\u001b[1;33m\u001b[0m\u001b[1;33m\u001b[0m\u001b[0m\n\u001b[0;32m     27\u001b[0m             \u001b[0mself\u001b[0m\u001b[1;33m.\u001b[0m\u001b[0m_buffer\u001b[0m\u001b[1;33m[\u001b[0m\u001b[1;36m0\u001b[0m\u001b[1;33m]\u001b[0m \u001b[1;33m=\u001b[0m \u001b[0mx\u001b[0m\u001b[1;33m\u001b[0m\u001b[1;33m\u001b[0m\u001b[0m\n\u001b[1;32m---> 28\u001b[1;33m             \u001b[0moutput_tensor\u001b[0m\u001b[1;33m[\u001b[0m\u001b[0mc\u001b[0m\u001b[1;33m,\u001b[0m \u001b[1;33m:\u001b[0m\u001b[1;33m,\u001b[0m \u001b[1;33m:\u001b[0m\u001b[1;33m]\u001b[0m \u001b[1;33m=\u001b[0m \u001b[0mself\u001b[0m\u001b[1;33m.\u001b[0m\u001b[0m_buffer\u001b[0m\u001b[1;33m.\u001b[0m\u001b[0mclone\u001b[0m\u001b[1;33m(\u001b[0m\u001b[1;33m)\u001b[0m\u001b[1;33m\u001b[0m\u001b[1;33m\u001b[0m\u001b[0m\n\u001b[0m\u001b[0;32m     29\u001b[0m             \u001b[0mc\u001b[0m \u001b[1;33m+=\u001b[0m \u001b[1;36m1\u001b[0m\u001b[1;33m\u001b[0m\u001b[1;33m\u001b[0m\u001b[0m\n\u001b[0;32m     30\u001b[0m         \u001b[0moutput_tensor\u001b[0m \u001b[1;33m=\u001b[0m \u001b[0mself\u001b[0m\u001b[1;33m.\u001b[0m\u001b[0mlinear\u001b[0m\u001b[1;33m(\u001b[0m\u001b[0moutput_tensor\u001b[0m\u001b[1;33m.\u001b[0m\u001b[0mview\u001b[0m\u001b[1;33m(\u001b[0m\u001b[0mbatch_size\u001b[0m\u001b[1;33m,\u001b[0m \u001b[1;33m-\u001b[0m\u001b[1;36m1\u001b[0m\u001b[1;33m)\u001b[0m\u001b[1;33m)\u001b[0m\u001b[1;33m\u001b[0m\u001b[1;33m\u001b[0m\u001b[0m\n",
      "\u001b[1;31mKeyboardInterrupt\u001b[0m: "
     ]
    }
   ],
   "source": [
    "epochs = 3000\n",
    "batch_size = 20\n",
    "progress_bar = tqdm_notebook(range(int(epochs)))\n",
    "loss_track = {\"val\":[], \"epoch\":[], \"batch_num\":[], \"last_correct\":[]}\n",
    "acc = 0\n",
    "for e in progress_bar:\n",
    "    model.reset()\n",
    "    c = 0\n",
    "    for inp_and_tok in tokens.split(batch_size, dim=0):\n",
    "        inps = inp_and_tok[:, :-1, 0]\n",
    "        targets = inp_and_tok[:, -1, 0].type(torch.cuda.LongTensor)\n",
    "        model.zero_grad()\n",
    "        out = model(inps)\n",
    "        loss = loss_func(out, targets)\n",
    "        loss.backward()\n",
    "        loss_track['val'].append(loss.mean().detach().cpu().numpy())\n",
    "        loss_track['epoch'].append(e)\n",
    "        loss_track['batch_num'].append(c)\n",
    "        loss_track['last_correct'].append(acc)\n",
    "        optimizer.step()\n",
    "        c += 1\n",
    "    model.reset()\n",
    "    t = 0\n",
    "    correct = 0\n",
    "    pp = 0\n",
    "    for inp_and_tok in tokens.split(batch_size, dim=0):\n",
    "        inps = inp_and_tok[:, :-1, 0]\n",
    "        targets = inp_and_tok[:, -1, 0].type(torch.cuda.LongTensor)\n",
    "        out = model(inps)\n",
    "\n",
    "        # Accuracy\n",
    "        correct += (out.argmax(-1) == targets).sum().detach().cpu().numpy()\n",
    "        t += inps.shape[0]\n",
    "\n",
    "    acc = correct/t\n",
    "    progress_bar.set_description(\"%i: Acc: %0.4f\" % (e, acc))"
   ]
  },
  {
   "cell_type": "code",
   "execution_count": null,
   "metadata": {
    "ExecuteTime": {
     "end_time": "2020-04-04T15:01:47.858684Z",
     "start_time": "2020-04-04T15:01:47.831782Z"
    }
   },
   "outputs": [],
   "source": [
    "loss_track = pd.DataFrame(loss_track)"
   ]
  },
  {
   "cell_type": "code",
   "execution_count": null,
   "metadata": {
    "ExecuteTime": {
     "end_time": "2020-04-04T15:01:48.152509Z",
     "start_time": "2020-04-04T15:01:47.859888Z"
    }
   },
   "outputs": [],
   "source": [
    "fig = figure(figsize=(20, 10))\n",
    "\n",
    "ax = fig.add_subplot(1,2,1)\n",
    "ax.plot(loss_track['val'])\n",
    "ax.set_xlabel(\"Batch Num\")\n",
    "ax.set_ylabel(\"Loss\")\n",
    "ax.set_title(\"Loss over Batches\")\n",
    "ax = fig.add_subplot(1,2,2)\n",
    "ax.plot(loss_track['last_correct'])\n",
    "ax.set_xlabel(\"Batch Num\")\n",
    "ax.set_ylabel(\"Accuracy\")\n",
    "ax.set_title(\"Correct Acc over Batches\")\n",
    "\n",
    "# Please note that the line that is in the left graph highly fluctuates\n",
    "# based on the batch within an epoch, so it looks like a filled in area but \n",
    "# is actually just a highly fluctuating line. \n",
    "\n",
    "# it should also be noted that a buffer of size 10 will never reach 100% \n",
    "# accuracy with this model. "
   ]
  },
  {
   "cell_type": "markdown",
   "metadata": {},
   "source": [
    "# Test the finished model\n",
    "\n",
    "Prints out the most likely letter to occur when taking in the last letter as input. This cell is just a proof of concept that the model is working at all. "
   ]
  },
  {
   "cell_type": "code",
   "execution_count": 11,
   "metadata": {
    "ExecuteTime": {
     "end_time": "2020-04-04T15:16:52.310224Z",
     "start_time": "2020-04-04T15:16:52.223486Z"
    }
   },
   "outputs": [
    {
     "name": "stdout",
     "output_type": "stream",
     "text": [
      "ID YOU .VERYHEAR THE DRAGEDY OF DARTH PLAGUEIS WHE DISE H I THOUGHT HOT . IT<,>S NOT . STORY THE DEDI WOULD SELL YOU . IT<,>S N SITH <,>EGEND . DARTH PLAGUEIS WAS AFDARK SORD OF WHE DITH <,> SO POWERFUL .ND SO WISE HE TOULD SSE THE DORCE TO INFLUENCE THE DIDICHLORIANS TO CREATE LIFE . HE BAD SUCH A KNOWLEDGE OF THE DARK SIDE OHAT HE COULD SVEN KEEP THE DNLS HE CORED ABOUT FROM DYING . THE DARK SIDE OF THE DORCE TS A PATHWAY TO MANY ABILITIES SOME CONSIDER TO BE UNNATURAL . HE BECAME SO POWERFUL . THE DNLY THING HE WAS AFRAID OF WAS AOSING HES AOWERF<,> WHICH EVEN UALLY <,> OF TOURSE <,> HE DAD . UNFORTUNATELY <,> OE DAUGHT HIS APPRENTICE KVERYTHING HE WNEW <,> THEN HIS APPRENTICE KILLED HIM IN HIS ALEEP . IT<,>S NRONIC HE COULD SAVE OTHERS FROM DYATH <,> SUT NOT .IMSELF . "
     ]
    }
   ],
   "source": [
    "model.reset()\n",
    "t = 0\n",
    "correct = 0\n",
    "pp = 0\n",
    "for inp_and_tok in tokens.split(20, dim=0):\n",
    "    inps = inp_and_tok[:, :-1, 0]\n",
    "    targets = inp_and_tok[:, -1, 0].type(torch.cuda.LongTensor)\n",
    "    out = model(inps)\n",
    "\n",
    "    # Accuracy\n",
    "    indexes = out.argmax(-1).detach().cpu().numpy()\n",
    "    for i in indexes:\n",
    "        sys.stdout.write(id_to_let[i])\n"
   ]
  },
  {
   "cell_type": "markdown",
   "metadata": {
    "cell_style": "split"
   },
   "source": [
    "# SITH Stuff"
   ]
  },
  {
   "cell_type": "markdown",
   "metadata": {},
   "source": [
    "**GOAL: Learn to predict what letter is coming next given the context of the entire set of letters that came before it.**\n",
    "\n",
    "Instead of using a buffer of the last few letters to predict what letter might be occuring next, I set up this example to use SITH. SITH |has the ability to sparcify the entire history of letters presented to the model, which allows the subsequent layers to see a larger amount of the past than the buffer using the same size model. \n",
    "\n",
    "After this cell, we will be showing off SITH. Firstly is a cell where we pick the parameters to be passed into our SITH layer. Selecting the parameters in sith_params will change where the centers of the temporal receptive fields inside SITH will be located, as well as how small the receptive fields are. Secondly weho over how to add a SITH layer to the above model by replacing the buffer, as well as how to train the model. And like before, we will be showing graphs of loss through time and accuracy through time. You will see that a SITH representation with 10 taustars learns to predict the next letter at 100% accuracy, where a buffer with 10 positions only gets to 99.08% accuracy. "
   ]
  },
  {
   "cell_type": "code",
   "execution_count": 103,
   "metadata": {
    "ExecuteTime": {
     "end_time": "2020-04-04T15:17:24.119988Z",
     "start_time": "2020-04-04T15:17:24.096558Z"
    },
    "scrolled": true
   },
   "outputs": [
    {
     "name": "stdout",
     "output_type": "stream",
     "text": [
      "[ 1.          1.64074696  2.6920506   4.41697386  7.24713645 11.89071713\n",
      " 19.50965805 32.01041223]\n"
     ]
    }
   ],
   "source": [
    "sith_params ={\"in_features\":15,\n",
    "              \"tau_min\":1, \"tau_max\":40, \"k\":10,\n",
    "              \"ntau\":150, \"g\":0.0,\n",
    "              \"T_every\":20, \"alpha\":1.0, 'ttype':torch.cuda.DoubleTensor}\n",
    "# This is only for making sure you pick the right parameters\n",
    "sithrep = SITH(**sith_params)\n",
    "sithrep.cuda()\n",
    "taustars = sithrep._tau_star.detach().cpu().numpy()\n",
    "\n",
    "print(taustars)"
   ]
  },
  {
   "cell_type": "markdown",
   "metadata": {},
   "source": [
    "## Define the model\n",
    "\n",
    "It is a simple model that takes in single tokens as input, and generates a prediction of the token that should occur next. \n",
    "\n",
    "The input tensor should be of size (batch, num_tokens) as input, as SITH is able to handle batched input. The output of this layer is a tensor of size (batch, num_tokens\\*num_taustars) because we flatten the output to prepare it for the next layer. The second layer of the model is just a fully connected hidden layer to the output, of size (len(taustars)\\*num_tokens, num_tokens). The output is of size (batch, num_tokens), and is passed through a log_softmax function.\n",
    "\n",
    "The output tensor of this model will assign the highest log proability to the token that is most likely to occur next. "
   ]
  },
  {
   "cell_type": "code",
   "execution_count": null,
   "metadata": {
    "ExecuteTime": {
     "end_time": "2020-04-04T15:17:24.137207Z",
     "start_time": "2020-04-04T15:17:24.121067Z"
    }
   },
   "outputs": [],
   "source": [
    "\n"
   ]
  },
  {
   "cell_type": "markdown",
   "metadata": {},
   "source": [
    "## Define and Train the Model"
   ]
  },
  {
   "cell_type": "code",
   "execution_count": 228,
   "metadata": {
    "ExecuteTime": {
     "end_time": "2020-04-04T15:17:24.144693Z",
     "start_time": "2020-04-04T15:17:24.138118Z"
    }
   },
   "outputs": [],
   "source": [
    "model = SITHLetterModel(sith_params, len(list(let_to_id.keys())), hidden_size=50).cuda().double()\n",
    "optimizer = torch.optim.Adam\n",
    "loss_func = torch.nn.CrossEntropyLoss\n",
    "input_scaling = 10"
   ]
  },
  {
   "cell_type": "code",
   "execution_count": null,
   "metadata": {
    "ExecuteTime": {
     "end_time": "2020-04-04T15:29:22.464182Z",
     "start_time": "2020-04-04T15:17:24.145642Z"
    }
   },
   "outputs": [],
   "source": [
    "epochs = 1000\n",
    "batch_size = 20\n",
    "progress_bar = tqdm_notebook(range(int(epochs)))\n",
    "loss_track = {\"val\":[], \"epoch\":[], \"batch_num\":[], \"last_correct\":[]}\n",
    "acc = 0\n",
    "for e in progress_bar:\n",
    "    model.reset()\n",
    "    c = 0\n",
    "\n",
    "    # Break data into input tokens and targets for that token, both of \n",
    "    # size, batch size. \n",
    "    inps = tokens[:-1, -1, 0].type(torch.cuda.LongTensor).view(-1, 1)\n",
    "    targets = tokens[1:, -1, 0].type(torch.cuda.LongTensor)\n",
    "\n",
    "    model.zero_grad()\n",
    "    # Present an entire batch to the model\n",
    "    out = model(inps)\n",
    "\n",
    "    # Measure loss via Negative Log Likelyhood\n",
    "    loss = loss_func(out, targets)\n",
    "    loss.backward()\n",
    "\n",
    "    # Record loss, epoch number, batch number in epoch, \n",
    "    # last accuracy measure, etc\n",
    "    loss_track['val'].append(loss.mean().detach().cpu().numpy())\n",
    "    loss_track['epoch'].append(e)\n",
    "    loss_track['batch_num'].append(c)\n",
    "    loss_track['last_correct'].append(acc)\n",
    "\n",
    "    optimizer.step()\n",
    "    c += 1\n",
    "\n",
    "    model.reset()\n",
    "    t = 0\n",
    "    correct = 0\n",
    "    pp = 0\n",
    "    # Test for accuracy\n",
    "\n",
    "    inps = tokens[:-1, -1, 0].type(torch.cuda.LongTensor).view(-1, 1)\n",
    "    targets = tokens[1:, -1, 0].type(torch.cuda.LongTensor)\n",
    "    out = model(inps)\n",
    "\n",
    "    # Accuracy: If the maximum value in the output is at the same\n",
    "    # position as the target id for that input token, then we count it as\n",
    "    # a correct response\n",
    "    correct += (out.argmax(-1) == targets).sum().detach().cpu().numpy()\n",
    "    t += inps.shape[0]\n",
    "\n",
    "    acc = correct/t\n",
    "    progress_bar.set_description(\"%i: %0.4f, Acc: %0.4f\" % (e, loss.detach().cpu().numpy().mean(), acc))"
   ]
  },
  {
   "cell_type": "code",
   "execution_count": 233,
   "metadata": {},
   "outputs": [
    {
     "data": {
      "application/vnd.jupyter.widget-view+json": {
       "model_id": "a053b1f502734e789e548abddd965e54",
       "version_major": 2,
       "version_minor": 0
      },
      "text/plain": [
       "HBox(children=(FloatProgress(value=0.0, max=1000.0), HTML(value='')))"
      ]
     },
     "metadata": {},
     "output_type": "display_data"
    },
    {
     "name": "stdout",
     "output_type": "stream",
     "text": [
      "torch.Size([761])\n",
      "torch.Size([761, 29]) tensor([[-0.0830, -0.1153,  0.1080,  ..., -0.1133,  0.1648,  0.1553],\n",
      "        [ 0.0121, -0.3079,  0.0200,  ..., -0.1670,  0.0433,  0.2535],\n",
      "        [ 0.1614, -0.2267,  0.0774,  ..., -0.1073,  0.1330,  0.2280],\n",
      "        ...,\n",
      "        [-0.0469, -0.0610,  0.1881,  ..., -0.1270,  0.1995,  0.0543],\n",
      "        [-0.0722,  0.1504, -0.0859,  ..., -0.0975, -0.3608,  0.0076],\n",
      "        [-0.1607,  0.2300,  0.0531,  ...,  0.0143, -0.2727, -0.1145]],\n",
      "       device='cuda:0', dtype=torch.float64, grad_fn=<AddmmBackward>)\n"
     ]
    },
    {
     "ename": "KeyError",
     "evalue": "'name'",
     "output_type": "error",
     "traceback": [
      "\u001b[1;31m---------------------------------------------------------------------------\u001b[0m",
      "\u001b[1;31mKeyError\u001b[0m                                  Traceback (most recent call last)",
      "\u001b[1;32m<ipython-input-233-49f18b829c86>\u001b[0m in \u001b[0;36m<module>\u001b[1;34m\u001b[0m\n\u001b[0;32m     23\u001b[0m     \u001b[0mloss_track\u001b[0m\u001b[1;33m[\u001b[0m\u001b[1;34m'epoch'\u001b[0m\u001b[1;33m]\u001b[0m\u001b[1;33m.\u001b[0m\u001b[0mappend\u001b[0m\u001b[1;33m(\u001b[0m\u001b[0me\u001b[0m\u001b[1;33m)\u001b[0m\u001b[1;33m\u001b[0m\u001b[1;33m\u001b[0m\u001b[0m\n\u001b[0;32m     24\u001b[0m     \u001b[0mloss_track\u001b[0m\u001b[1;33m[\u001b[0m\u001b[1;34m'batch_num'\u001b[0m\u001b[1;33m]\u001b[0m\u001b[1;33m.\u001b[0m\u001b[0mappend\u001b[0m\u001b[1;33m(\u001b[0m\u001b[0mc\u001b[0m\u001b[1;33m)\u001b[0m\u001b[1;33m\u001b[0m\u001b[1;33m\u001b[0m\u001b[0m\n\u001b[1;32m---> 25\u001b[1;33m     \u001b[0mloss_track\u001b[0m\u001b[1;33m[\u001b[0m\u001b[1;34m'name'\u001b[0m\u001b[1;33m]\u001b[0m\u001b[1;33m.\u001b[0m\u001b[0mappend\u001b[0m\u001b[1;33m(\u001b[0m\u001b[0mmodel\u001b[0m\u001b[1;33m.\u001b[0m\u001b[0mname\u001b[0m\u001b[1;33m)\u001b[0m\u001b[1;33m\u001b[0m\u001b[1;33m\u001b[0m\u001b[0m\n\u001b[0m\u001b[0;32m     26\u001b[0m \u001b[1;33m\u001b[0m\u001b[0m\n\u001b[0;32m     27\u001b[0m     \u001b[0macc\u001b[0m \u001b[1;33m=\u001b[0m \u001b[0mtest_model\u001b[0m\u001b[1;33m(\u001b[0m\u001b[0mmodel\u001b[0m\u001b[1;33m,\u001b[0m \u001b[0mtokens\u001b[0m\u001b[1;33m)\u001b[0m\u001b[1;33m\u001b[0m\u001b[1;33m\u001b[0m\u001b[0m\n",
      "\u001b[1;31mKeyError\u001b[0m: 'name'"
     ]
    }
   ],
   "source": [
    "model = sith_model\n",
    "lf = loss_func()\n",
    "optim = optimizer(model.parameters())\n",
    "# size, batch size. \n",
    "inps = tokens[:-1].type(torch.cuda.LongTensor)\n",
    "targets = tokens[1:, 0].type(torch.cuda.LongTensor)\n",
    "progress_bar = tqdm(range(int(epochs)))\n",
    "print(targets.shape)\n",
    "for e in progress_bar:\n",
    "    model.zero_grad()\n",
    "\n",
    "    # Present an entire batch to the model\n",
    "    out = model(inps)\n",
    "    print(out.shape, out)\n",
    "    # Measure loss via Negative Log Likelyhood\n",
    "    loss = lf(out, targets)\n",
    "    loss.backward()\n",
    "    optim.step()\n",
    "\n",
    "    # Record loss, epoch number, batch number in epoch, \n",
    "    # last accuracy measure, etc\n",
    "    loss_track['val'].append(loss.mean().detach().cpu().numpy())\n",
    "    loss_track['epoch'].append(e)\n",
    "    loss_track['batch_num'].append(c)\n",
    "    loss_track['name'].append(model.name)\n",
    "\n",
    "    acc = test_model(model, tokens)\n",
    "    loss_track['last_correct'].append(acc)\n",
    "\n",
    "    # Update progress_bar\n",
    "    progress_bar.set_description(\"%i: Acc: %0.4f\" % (e, loss_track['val'][-1], acc))"
   ]
  },
  {
   "cell_type": "code",
   "execution_count": 109,
   "metadata": {},
   "outputs": [
    {
     "name": "stdout",
     "output_type": "stream",
     "text": [
      "7885\n"
     ]
    }
   ],
   "source": [
    "es = 1\n",
    "for x in model.word_embeddings.weight.shape:\n",
    "    es*=x\n",
    "l1 = 1\n",
    "for x in model.linear1.weight.shape:\n",
    "    l1 *= x\n",
    "l2 = 1\n",
    "for x in model.linear2.weight.shape:\n",
    "    l2 *= x\n",
    "print(es+l1+l2)"
   ]
  },
  {
   "cell_type": "code",
   "execution_count": 107,
   "metadata": {
    "ExecuteTime": {
     "end_time": "2020-04-04T15:29:22.492745Z",
     "start_time": "2020-04-04T15:29:22.464963Z"
    }
   },
   "outputs": [],
   "source": [
    "loss_track = pd.DataFrame(loss_track)"
   ]
  },
  {
   "cell_type": "code",
   "execution_count": 108,
   "metadata": {
    "ExecuteTime": {
     "end_time": "2020-04-04T15:29:22.785767Z",
     "start_time": "2020-04-04T15:29:22.493761Z"
    }
   },
   "outputs": [
    {
     "data": {
      "text/plain": [
       "Text(0.5, 1.0, 'Correct Acc over Batches')"
      ]
     },
     "execution_count": 108,
     "metadata": {},
     "output_type": "execute_result"
    },
    {
     "data": {
      "image/png": "[encoded data removed]",
      "text/plain": [
       "<Figure size 1440x720 with 2 Axes>"
      ]
     },
     "metadata": {
      "needs_background": "light"
     },
     "output_type": "display_data"
    }
   ],
   "source": [
    "fig = figure(figsize=(20, 10))\n",
    "\n",
    "ax = fig.add_subplot(1,2,1)\n",
    "ax.plot(loss_track['val'])\n",
    "ax.set_xlabel(\"Batch Num\")\n",
    "ax.set_ylabel(\"Loss\")\n",
    "ax.set_title(\"Loss over Batches\")\n",
    "ax = fig.add_subplot(1,2,2)\n",
    "ax.plot(loss_track['last_correct'])\n",
    "ax.set_xlabel(\"Batch Num\")\n",
    "ax.set_ylabel(\"Accuracy\")\n",
    "ax.set_title(\"Correct Acc over Batches\")\n",
    "# Please note that the line that is in the left graph highly fluctuates\n",
    "# based on the batch within an epoch, so it looks like a filled in area but \n",
    "# is actually just a highly fluctuating line. "
   ]
  },
  {
   "cell_type": "markdown",
   "metadata": {},
   "source": [
    "# Test the finished model\n",
    "\n",
    "Prints out the most likely letter to occur when taking in the last letter as input. This cell is just a proof of concept that the model is working at all. "
   ]
  },
  {
   "cell_type": "code",
   "execution_count": 110,
   "metadata": {
    "ExecuteTime": {
     "end_time": "2020-04-04T15:29:22.921748Z",
     "start_time": "2020-04-04T15:29:22.786683Z"
    },
    "scrolled": true
   },
   "outputs": [
    {
     "name": "stdout",
     "output_type": "stream",
     "text": [
      "D YOU EVER HEAR THE TRAGEDY OF DARTH PLAGUEIS THE WISE . I THOUGHT NOT . IT<,>S NOT A STORY THE JEDI WOULD TELL YOU . IT<,>S A SITH LEGEND . DARTH PLAGUEIS WAS A DARK LORD OF THE SITH <,> SO POWERFUL AND SO WISE HE COULD USE THE FORCE TO INFLUENCE THE MIDICHLORIANS TO CREATE LIFE . HE HAD SUCH A KNOWLEDGE OF THE DARK SIDE THAT HE COULD EVEN KEEP THE ONES HE CARED ABOUT FROM DYING . THE DARK SIDE OF THE FORCE IS A PATHWAY TO MANY ABILITIES SOME CONSIDER TO BE UNNATURAL . HE BECAME SO POWERFUL . THE ONLY THING HE WAS AFRAID OF WAS LOSING HIS POWER <,> WHICH EVENTUALLY <,> OF COURSE <,> HE DID . UNFORTUNATELY <,> HE TAUGHT HIS APPRENTICE EVERYTHING HE KNEW <,> THEN HIS APPRENTICE KILLED HIM IN HIS SLEEP . IT<,>S IRONIC HE COULD SAVE OTHERS FROM DEATH <,> BUT NOT HIMSELF . "
     ]
    }
   ],
   "source": [
    "model.reset()\n",
    "t = 0\n",
    "correct = 0\n",
    "pp = 0\n",
    "inps = tokens[:-1, -1, 0].long().cuda()\n",
    "out = model(inps)\n",
    "\n",
    "# Accuracy\n",
    "indexes = out.argmax(-1).detach().cpu().numpy()\n",
    "for i in indexes:\n",
    "    sys.stdout.write(id_to_let[i])\n",
    "\n"
   ]
  },
  {
   "cell_type": "markdown",
   "metadata": {},
   "source": [
    "# LSTM Stuff"
   ]
  },
  {
   "cell_type": "markdown",
   "metadata": {},
   "source": [
    "## Define the model\n",
    "\n",
    "Similar to the previous model, this model takes the SITH layer and replaces it with an LSTM. Since the LSTM has hidden layer weights already, I decided to remove one of the layers to the output. This layout matches an example character predictor in the Pytorch tutorials. \n"
   ]
  },
  {
   "cell_type": "markdown",
   "metadata": {},
   "source": [
    "## Define and Train the Model"
   ]
  },
  {
   "cell_type": "code",
   "execution_count": 149,
   "metadata": {
    "ExecuteTime": {
     "end_time": "2020-04-04T15:17:24.144693Z",
     "start_time": "2020-04-04T15:17:24.138118Z"
    }
   },
   "outputs": [
    {
     "name": "stdout",
     "output_type": "stream",
     "text": [
      "LSTMTagger(\n",
      "  (word_embeddings): Embedding(29, 15)\n",
      "  (lstm): LSTM(15, 50)\n",
      "  (hidden2tag): Linear(in_features=50, out_features=29, bias=True)\n",
      ")\n"
     ]
    }
   ],
   "source": [
    "features = 15\n",
    "hidden_dim = 50\n",
    "\n",
    "model = LSTMTagger(embedding_dim=features, hidden_dim=hidden_dim, \n",
    "                   vocab_size=len(list(let_to_id.keys()))).cuda()\n",
    "optimizer = torch.optim.Adam(model.parameters(), lr=.001)\n",
    "loss_func = torch.nn.CrossEntropyLoss()\n",
    "input_scaling = 10\n",
    "print(model)"
   ]
  },
  {
   "cell_type": "code",
   "execution_count": 150,
   "metadata": {
    "ExecuteTime": {
     "end_time": "2020-04-04T15:29:22.464182Z",
     "start_time": "2020-04-04T15:17:24.145642Z"
    }
   },
   "outputs": [
    {
     "name": "stderr",
     "output_type": "stream",
     "text": [
      "C:\\Users\\caboodle513\\anaconda3\\lib\\site-packages\\ipykernel_launcher.py:2: TqdmDeprecationWarning: This function will be removed in tqdm==5.0.0\n",
      "Please use `tqdm.notebook.tqdm` instead of `tqdm.tqdm_notebook`\n",
      "  \n"
     ]
    },
    {
     "data": {
      "application/vnd.jupyter.widget-view+json": {
       "model_id": "a4f9bd15677c4302abe51e4f030f5f82",
       "version_major": 2,
       "version_minor": 0
      },
      "text/plain": [
       "HBox(children=(FloatProgress(value=0.0, max=1000.0), HTML(value='')))"
      ]
     },
     "metadata": {},
     "output_type": "display_data"
    },
    {
     "ename": "KeyboardInterrupt",
     "evalue": "",
     "output_type": "error",
     "traceback": [
      "\u001b[1;31m---------------------------------------------------------------------------\u001b[0m",
      "\u001b[1;31mKeyboardInterrupt\u001b[0m                         Traceback (most recent call last)",
      "\u001b[1;32m<ipython-input-150-5e7f57d050e0>\u001b[0m in \u001b[0;36m<module>\u001b[1;34m\u001b[0m\n\u001b[0;32m     23\u001b[0m     \u001b[0mloss_track\u001b[0m\u001b[1;33m[\u001b[0m\u001b[1;34m'last_correct'\u001b[0m\u001b[1;33m]\u001b[0m\u001b[1;33m.\u001b[0m\u001b[0mappend\u001b[0m\u001b[1;33m(\u001b[0m\u001b[0macc\u001b[0m\u001b[1;33m)\u001b[0m\u001b[1;33m\u001b[0m\u001b[1;33m\u001b[0m\u001b[0m\n\u001b[0;32m     24\u001b[0m \u001b[1;33m\u001b[0m\u001b[0m\n\u001b[1;32m---> 25\u001b[1;33m     \u001b[0moptimizer\u001b[0m\u001b[1;33m.\u001b[0m\u001b[0mstep\u001b[0m\u001b[1;33m(\u001b[0m\u001b[1;33m)\u001b[0m\u001b[1;33m\u001b[0m\u001b[1;33m\u001b[0m\u001b[0m\n\u001b[0m\u001b[0;32m     26\u001b[0m     \u001b[0mc\u001b[0m \u001b[1;33m+=\u001b[0m \u001b[1;36m1\u001b[0m\u001b[1;33m\u001b[0m\u001b[1;33m\u001b[0m\u001b[0m\n\u001b[0;32m     27\u001b[0m \u001b[1;33m\u001b[0m\u001b[0m\n",
      "\u001b[1;32m~\\anaconda3\\lib\\site-packages\\torch\\autograd\\grad_mode.py\u001b[0m in \u001b[0;36mdecorate_context\u001b[1;34m(*args, **kwargs)\u001b[0m\n\u001b[0;32m     13\u001b[0m         \u001b[1;32mdef\u001b[0m \u001b[0mdecorate_context\u001b[0m\u001b[1;33m(\u001b[0m\u001b[1;33m*\u001b[0m\u001b[0margs\u001b[0m\u001b[1;33m,\u001b[0m \u001b[1;33m**\u001b[0m\u001b[0mkwargs\u001b[0m\u001b[1;33m)\u001b[0m\u001b[1;33m:\u001b[0m\u001b[1;33m\u001b[0m\u001b[1;33m\u001b[0m\u001b[0m\n\u001b[0;32m     14\u001b[0m             \u001b[1;32mwith\u001b[0m \u001b[0mself\u001b[0m\u001b[1;33m:\u001b[0m\u001b[1;33m\u001b[0m\u001b[1;33m\u001b[0m\u001b[0m\n\u001b[1;32m---> 15\u001b[1;33m                 \u001b[1;32mreturn\u001b[0m \u001b[0mfunc\u001b[0m\u001b[1;33m(\u001b[0m\u001b[1;33m*\u001b[0m\u001b[0margs\u001b[0m\u001b[1;33m,\u001b[0m \u001b[1;33m**\u001b[0m\u001b[0mkwargs\u001b[0m\u001b[1;33m)\u001b[0m\u001b[1;33m\u001b[0m\u001b[1;33m\u001b[0m\u001b[0m\n\u001b[0m\u001b[0;32m     16\u001b[0m         \u001b[1;32mreturn\u001b[0m \u001b[0mdecorate_context\u001b[0m\u001b[1;33m\u001b[0m\u001b[1;33m\u001b[0m\u001b[0m\n\u001b[0;32m     17\u001b[0m \u001b[1;33m\u001b[0m\u001b[0m\n",
      "\u001b[1;32m~\\anaconda3\\lib\\site-packages\\torch\\optim\\adam.py\u001b[0m in \u001b[0;36mstep\u001b[1;34m(self, closure)\u001b[0m\n\u001b[0;32m    109\u001b[0m                 \u001b[0mstep_size\u001b[0m \u001b[1;33m=\u001b[0m \u001b[0mgroup\u001b[0m\u001b[1;33m[\u001b[0m\u001b[1;34m'lr'\u001b[0m\u001b[1;33m]\u001b[0m \u001b[1;33m/\u001b[0m \u001b[0mbias_correction1\u001b[0m\u001b[1;33m\u001b[0m\u001b[1;33m\u001b[0m\u001b[0m\n\u001b[0;32m    110\u001b[0m \u001b[1;33m\u001b[0m\u001b[0m\n\u001b[1;32m--> 111\u001b[1;33m                 \u001b[0mp\u001b[0m\u001b[1;33m.\u001b[0m\u001b[0maddcdiv_\u001b[0m\u001b[1;33m(\u001b[0m\u001b[0mexp_avg\u001b[0m\u001b[1;33m,\u001b[0m \u001b[0mdenom\u001b[0m\u001b[1;33m,\u001b[0m \u001b[0mvalue\u001b[0m\u001b[1;33m=\u001b[0m\u001b[1;33m-\u001b[0m\u001b[0mstep_size\u001b[0m\u001b[1;33m)\u001b[0m\u001b[1;33m\u001b[0m\u001b[1;33m\u001b[0m\u001b[0m\n\u001b[0m\u001b[0;32m    112\u001b[0m \u001b[1;33m\u001b[0m\u001b[0m\n\u001b[0;32m    113\u001b[0m         \u001b[1;32mreturn\u001b[0m \u001b[0mloss\u001b[0m\u001b[1;33m\u001b[0m\u001b[1;33m\u001b[0m\u001b[0m\n",
      "\u001b[1;31mKeyboardInterrupt\u001b[0m: "
     ]
    }
   ],
   "source": [
    "epochs = 1500\n",
    "progress_bar = tqdm_notebook(range(int(epochs)))\n",
    "loss_track = {\"val\":[], \"epoch\":[], \"batch_num\":[], \"last_correct\":[]}\n",
    "acc = 0\n",
    "for e in progress_bar:\n",
    "    c = 0\n",
    "    # Break data into input tokens and targets for that token, both of \n",
    "    # size, batch size. \n",
    "    targets = tokens[1:, -1, 0].type(torch.cuda.LongTensor)\n",
    "\n",
    "    model.zero_grad()\n",
    "    # Present an entire batch to the model\n",
    "    out = model(tokens[:-1, -1, 0].long().cuda())\n",
    "    # Measure loss via Negative Log Likelyhood\n",
    "    loss = loss_func(out, targets)\n",
    "    loss.backward()\n",
    "\n",
    "    # Record loss, epoch number, batch number in epoch, \n",
    "    # last accuracy measure, etc\n",
    "    loss_track['val'].append(loss.mean().detach().cpu().numpy())\n",
    "    loss_track['epoch'].append(e)\n",
    "    loss_track['batch_num'].append(c)\n",
    "    loss_track['last_correct'].append(acc)\n",
    "\n",
    "    optimizer.step()\n",
    "    c += 1\n",
    "    \n",
    "    t = 0\n",
    "    correct = 0\n",
    "    pp = 0\n",
    "    # Test for accuracy\n",
    "\n",
    "    inps = tokens[:-1, -1, 0].long().cuda()\n",
    "    targets = tokens[1:, -1, 0].type(torch.cuda.LongTensor)\n",
    "    out = model(inps)\n",
    "\n",
    "    # Accuracy: If the maximum value in the output is at the same\n",
    "    # position as the target id for that input token, then we count it as\n",
    "    # a correct response\n",
    "    correct += (out.argmax(-1) == targets).sum().detach().cpu().numpy()\n",
    "    t += inps.shape[0]\n",
    "\n",
    "    acc = correct/t\n",
    "    progress_bar.set_description(\"%i: Acc: %0.4f\" % (e, acc))"
   ]
  },
  {
   "cell_type": "code",
   "execution_count": 147,
   "metadata": {
    "ExecuteTime": {
     "end_time": "2020-04-04T15:29:22.492745Z",
     "start_time": "2020-04-04T15:29:22.464963Z"
    }
   },
   "outputs": [],
   "source": [
    "loss_track = pd.DataFrame(loss_track)"
   ]
  },
  {
   "cell_type": "code",
   "execution_count": 148,
   "metadata": {
    "ExecuteTime": {
     "end_time": "2020-04-04T15:29:22.785767Z",
     "start_time": "2020-04-04T15:29:22.493761Z"
    },
    "scrolled": false
   },
   "outputs": [
    {
     "data": {
      "text/plain": [
       "Text(0.5, 1.0, 'Correct Acc over Batches')"
      ]
     },
     "execution_count": 148,
     "metadata": {},
     "output_type": "execute_result"
    },
    {
     "data": {
      "image/png": "[encoded data removed]",
      "text/plain": [
       "<Figure size 1440x720 with 2 Axes>"
      ]
     },
     "metadata": {
      "needs_background": "light"
     },
     "output_type": "display_data"
    }
   ],
   "source": [
    "fig = figure(figsize=(20, 10))\n",
    "\n",
    "ax = fig.add_subplot(1,2,1)\n",
    "ax.plot(loss_track['val'])\n",
    "ax.set_xlabel(\"Batch Num\")\n",
    "ax.set_ylabel(\"Loss\")\n",
    "ax.set_title(\"Loss over Batches\")\n",
    "ax = fig.add_subplot(1,2,2)\n",
    "ax.plot(loss_track['last_correct'])\n",
    "ax.set_xlabel(\"Batch Num\")\n",
    "ax.set_ylabel(\"Accuracy\")\n",
    "ax.set_title(\"Correct Acc over Batches\")\n",
    "# Please note that the line that is in the left graph highly fluctuates\n",
    "# based on the batch within an epoch, so it looks like a filled in area but \n",
    "# is actually just a highly fluctuating line. "
   ]
  },
  {
   "cell_type": "code",
   "execution_count": 140,
   "metadata": {},
   "outputs": [
    {
     "name": "stdout",
     "output_type": "stream",
     "text": [
      "torch.Size([29, 15])\n",
      "torch.Size([29, 120])\n",
      "torch.Size([480, 15]) torch.Size([480, 120])\n",
      "\n",
      "total parameters\n",
      "68715\n"
     ]
    }
   ],
   "source": [
    "es = 1\n",
    "print(model.word_embeddings.weight.shape)\n",
    "for x in model.word_embeddings.weight.shape:\n",
    "    es*=x\n",
    "l1 = 1\n",
    "print(model.hidden2tag.weight.shape)\n",
    "for x in model.hidden2tag.weight.shape:\n",
    "    l1 *= x\n",
    "weight_list = []\n",
    "for name in model.lstm.named_parameters():\n",
    "    if 'weight' in name[0]:\n",
    "        weight_list.append(name[1])\n",
    "print(weight_list[0].shape, weight_list[1].shape)\n",
    "wls_lstm = []\n",
    "for w in weight_list:\n",
    "    temp = 1\n",
    "    for x in w.shape:\n",
    "        temp *= x\n",
    "    wls_lstm.append(temp)\n",
    "    \n",
    "print(\"\\ntotal parameters\")\n",
    "print(es+l1+sum(wls_lstm))"
   ]
  },
  {
   "cell_type": "markdown",
   "metadata": {},
   "source": [
    "# Test the finished model\n",
    "\n",
    "Prints out the most likely letter to occur when taking in the last letter as input. This cell is just a proof of concept that the model is working at all. "
   ]
  },
  {
   "cell_type": "code",
   "execution_count": 141,
   "metadata": {
    "ExecuteTime": {
     "end_time": "2020-04-04T15:29:22.921748Z",
     "start_time": "2020-04-04T15:29:22.786683Z"
    }
   },
   "outputs": [
    {
     "name": "stdout",
     "output_type": "stream",
     "text": [
      "D YOU EVER HEAR THE TRAGEDY OF DARTH PLAGUEIS THE WISE . I THOUGHT NOT . IT<,>S NOT A STORY THE JEDI WOULD TELL YOU . IT<,>S A SITH LEGEND . DARTH PLAGUEIS WAS A DARK LORD OF THE SITH <,> SO POWERFUL AND SO WISE HE COULD USE THE FORCE TO INFLUENCE THE MIDICHLORIANS TO CREATE LIFE . HE HAD SUCH A KNOWLEDGE OF THE DARK SIDE THAT HE COULD EVEN KEEP THE ONES HE CARED ABOUT FROM DYING . THE DARK SIDE OF THE FORCE IS A PATHWAY TO MANY ABILITIES SOME CONSIDER TO BE UNNATURAL . HE BECAME SO POWERFUL . THE ONLY THING HE WAS AFRAID OF WAS LOSING HIS POWER <,> WHICH EVENTUALLY <,> OF COURSE <,> HE DID . UNFORTUNATELY <,> HE TAUGHT HIS APPRENTICE EVERYTHING HE KNEW <,> THEN HIS APPRENTICE KILLED HIM IN HIS SLEEP . IT<,>S IRONIC HE COULD SAVE OTHERS FROM DEATH <,> BUT NOT HIMSELF . "
     ]
    }
   ],
   "source": [
    "\n",
    "t = 0\n",
    "correct = 0\n",
    "pp = 0\n",
    "inps = tokens[:-1, -1, 0].long().cuda()\n",
    "out = model(inps)\n",
    "\n",
    "# Accuracy\n",
    "indexes = out.argmax(-1).detach().cpu().numpy()\n",
    "for i in indexes:\n",
    "    sys.stdout.write(id_to_let[i])\n"
   ]
  },
  {
   "cell_type": "code",
   "execution_count": null,
   "metadata": {},
   "outputs": [],
   "source": []
  },
  {
   "cell_type": "code",
   "execution_count": null,
   "metadata": {
    "collapsed": true
   },
   "outputs": [],
   "source": []
  }
 ],
 "metadata": {
  "kernelspec": {
   "display_name": "Python 3",
   "language": "python",
   "name": "python3"
  },
  "language_info": {
   "codemirror_mode": {
    "name": "ipython",
    "version": 3
   },
   "file_extension": ".py",
   "mimetype": "text/x-python",
   "name": "python",
   "nbconvert_exporter": "python",
   "pygments_lexer": "ipython3",
   "version": "3.7.6"
  },
  "toc": {
   "nav_menu": {},
   "number_sections": true,
   "sideBar": true,
   "skip_h1_title": false,
   "title_cell": "Table of Contents",
   "title_sidebar": "Contents",
   "toc_cell": false,
   "toc_position": {},
   "toc_section_display": true,
   "toc_window_display": false
  }
 },
 "nbformat": 4,
 "nbformat_minor": 2
}
