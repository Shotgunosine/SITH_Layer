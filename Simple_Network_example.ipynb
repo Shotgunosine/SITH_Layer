{
 "cells": [
  {
   "cell_type": "code",
   "execution_count": 229,
   "metadata": {
    "ExecuteTime": {
     "end_time": "2020-04-03T19:03:24.951510Z",
     "start_time": "2020-04-03T19:03:24.945069Z"
    }
   },
   "outputs": [
    {
     "name": "stdout",
     "output_type": "stream",
     "text": [
      "Populating the interactive namespace from numpy and matplotlib\n"
     ]
    },
    {
     "name": "stderr",
     "output_type": "stream",
     "text": [
      "/home/bgj5hk/bin/anaconda3/lib/python3.6/site-packages/IPython/core/magics/pylab.py:160: UserWarning: pylab import has clobbered these variables: ['e']\n",
      "`%matplotlib` prevents importing * from pylab and numpy\n",
      "  \"\\n`%matplotlib` prevents importing * from pylab and numpy\"\n"
     ]
    }
   ],
   "source": [
    "%pylab inline"
   ]
  },
  {
   "cell_type": "code",
   "execution_count": 230,
   "metadata": {
    "ExecuteTime": {
     "end_time": "2020-04-03T19:03:25.339667Z",
     "start_time": "2020-04-03T19:03:25.329597Z"
    }
   },
   "outputs": [
    {
     "name": "stdout",
     "output_type": "stream",
     "text": [
      "cuda\n"
     ]
    }
   ],
   "source": [
    "# Imports, nothing exciting here!\n",
    "\n",
    "import pandas as pd\n",
    "from tqdm import tqdm_notebook\n",
    "import torch\n",
    "import torch.nn\n",
    "import torch.nn.functional as F\n",
    "import sys\n",
    "\n",
    "# if gpu is to be used\n",
    "device = torch.device(\"cuda\" if torch.cuda.is_available() else \"cpu\")\n",
    "print(device)\n",
    "\n",
    "from sith import SITH\n",
    "\n",
    "# You might need to install seaborn if you haven't already\n",
    "import seaborn as sns\n",
    "import matplotlib.pyplot as plt\n",
    "import seaborn as sn\n",
    "sn.set_context(\"poster\")"
   ]
  },
  {
   "cell_type": "markdown",
   "metadata": {},
   "source": [
    "**GOAL: Learn to predict what letter is coming next given the context of the entire set of letters that came before it.**\n",
    "\n",
    "In this notebook, we will be covering two models, one with a buffer representation of *history* and one with a SITH representation of history, while they attempt to learn to predict the next item in a predefined sequence. The sequence in this case is the speech about the Sith Lord Darth Plagueis the Wise from Star Wars Episode 3. Individual letters will be presented to the model, one at a time as tokenized one-hot vectors, and the model will have to generate a prediction of what letter should occur next via a log probability. The letter assigned the highest probability is the one that the model has chosen to occur next.  \n",
    "\n",
    "This notebook is broken up into a few sections. The first is a data pre-processing section where we clean the entire speach and break tokenize it for input to the model. Then we will define a pytorch model with a buffer as the representation of context. Then we will train and test the buffer model, showing graphs of the loss over some number of epochs, as well as the accuracty of predicting the next letter in the speech over some number of epochs. These cells will also show what letter the model is predicting as each letter is being presented to it, once it is fully trained. \n",
    "\n",
    "After going over the buffer model, we will replace the buffer with a SITH representation and do the whole process again. The code that trains and tests the model will not change, the only change will be the replacement of the internal buffer of the model with a SITH representation."
   ]
  },
  {
   "cell_type": "markdown",
   "metadata": {},
   "source": [
    "# Initialize \"Corpus\"\n",
    "\n",
    "Set up the corpus, tokenize the input, and create a list of the target letters"
   ]
  },
  {
   "cell_type": "code",
   "execution_count": 231,
   "metadata": {
    "ExecuteTime": {
     "end_time": "2020-04-03T19:03:27.100094Z",
     "start_time": "2020-04-03T19:03:27.031153Z"
    },
    "collapsed": true,
    "scrolled": true
   },
   "outputs": [],
   "source": [
    "# Define what goes at the end of a sentence, and what comes in the middle of \n",
    "# sentences\n",
    "sentence_enders = [\"?\", \".\", \"!\"]\n",
    "separators = [\"\\'\", \",\"]\n",
    "\n",
    "# These are all of the tokens included in the stimuli that our model will be \n",
    "# seeing\n",
    "letters = list(\"abcdefghijklmnopqrstuvwxyz\".upper()) + [\"<,>\", \".\", \" \"]\n",
    "\n",
    "# create letter ids for the tokenizer function later\n",
    "let_to_id = {s:x for x,s in enumerate(letters)}\n",
    "# create a lookup table for model verification later\n",
    "id_to_let = dict([[v,k] for k,v in let_to_id.items()])\n",
    "\n",
    "# Read in the entire text\n",
    "full_text = open(\"plagueis.txt\", \"r\").read()\n",
    "\n",
    "# Make them all captical letters, and remove ellipsis. Add space before each \n",
    "# sentence ender and sentence separator\n",
    "full_text = full_text.upper()\n",
    "full_text = full_text.replace(\"...\", \".\")\n",
    "full_text = full_text.replace(\".\", \" .\")\n",
    "full_text = full_text.replace(\"?\", \" ?\")\n",
    "full_text = full_text.replace(\",\", \" ,\")\n",
    "full_test = full_text.replace(\"\\'\", \" \\'\")\n",
    "\n",
    "# split into individual words\n",
    "split_text = full_text.split()\n",
    "\n",
    "master_list = []\n",
    "id_list = []\n",
    "\n",
    "# Generate list of letter id's to be turned into 1-hot vectors by a \n",
    "# tokenizing function. The letter A has the id 0. The letter Z is 25. etc. \n",
    "for s in split_text:\n",
    "    # loop over each letter in each word\n",
    "    for l in s:\n",
    "        if l in sentence_enders:\n",
    "            master_list.append(\".\")\n",
    "            id_list.append(let_to_id[\".\"])\n",
    "        elif l in separators:\n",
    "            master_list.append(\"<,>\")\n",
    "            id_list.append(let_to_id[\"<,>\"])\n",
    "        else:\n",
    "            master_list.append(l)\n",
    "            id_list.append(let_to_id[l])\n",
    "    # add a space after each word and after each sentence modifier\n",
    "    master_list.append(\" \")\n",
    "    id_list.append(let_to_id[\" \"])\n",
    "\n",
    "# tokenizing funciton, turns each letter into \n",
    "def tokenize(inp_list, num_tokens=10):\n",
    "    output = torch.zeros(len(inp_list), num_tokens, 1).type(torch.DoubleTensor)\n",
    "    for i, inp in enumerate(inp_list):\n",
    "        output[i, inp, 0] = 1.0\n",
    "    return output\n",
    "\n",
    "# create a variable, tokens, that can be batched and used later for training and testing.\n",
    "input_tokens = tokenize(id_list[:-1], len(list(let_to_id.keys())))\n",
    "target_tokens = torch.DoubleTensor(id_list[1:]).view(-1, 1, 1)\n",
    "if torch.cuda.is_available():\n",
    "    input_tokens = input_tokens.cuda()\n",
    "    target_tokens = target_tokens.cuda()\n",
    "\n",
    "tokens = torch.cat((input_tokens, target_tokens), 1)\n",
    "\n"
   ]
  },
  {
   "cell_type": "markdown",
   "metadata": {},
   "source": [
    "# Define and Train the Model"
   ]
  },
  {
   "cell_type": "code",
   "execution_count": 232,
   "metadata": {
    "ExecuteTime": {
     "end_time": "2020-04-03T19:03:28.238180Z",
     "start_time": "2020-04-03T19:03:28.208646Z"
    },
    "collapsed": true
   },
   "outputs": [],
   "source": [
    "class BufferLetterModel(torch.nn.Module):\n",
    "    def __init__(self, buffer_size, num_tokens,\n",
    "                 buff_cuda=True):\n",
    "        super(BufferLetterModel, self).__init__()\n",
    "        self._buff_cuda = buff_cuda\n",
    "        self._buffer = torch.zeros((buffer_size, num_tokens), \n",
    "                                   requires_grad=False).type(torch.DoubleTensor)\n",
    "        if buff_cuda:\n",
    "            self._buffer = self._buffer.type(torch.cuda.DoubleTensor)\n",
    "        self.linear = torch.nn.Linear(num_tokens*buffer_size, num_tokens).double()\n",
    "        \n",
    "    def reset(self):\n",
    "        self._buffer = torch.zeros_like(self._buffer).cuda(device=self._buffer.device)\n",
    "        \n",
    "    def forward(self, inputs):\n",
    "        batch_size = inputs.shape[0]\n",
    "        \n",
    "        output_tensor = torch.zeros(batch_size, \n",
    "                                    self._buffer.shape[0],\n",
    "                                    self._buffer.shape[1]).type(torch.DoubleTensor)\n",
    "        if self._buff_cuda:\n",
    "            output_tensor = output_tensor.cuda(device=self._buffer.device)\n",
    "            \n",
    "        c = 0\n",
    "        for x in inputs.split(1, dim=0):\n",
    "            self._buffer[1:] = self._buffer[:-1].clone()\n",
    "            self._buffer[0] = x\n",
    "            output_tensor[c, :, :] = self._buffer.clone()\n",
    "            c += 1\n",
    "        output_tensor = self.linear(output_tensor.view(batch_size, -1))\n",
    "        output_tensor = F.log_softmax(output_tensor, dim=-1)\n",
    "        return output_tensor"
   ]
  },
  {
   "cell_type": "code",
   "execution_count": 285,
   "metadata": {
    "ExecuteTime": {
     "end_time": "2020-04-03T19:58:09.754307Z",
     "start_time": "2020-04-03T19:58:09.736603Z"
    },
    "collapsed": true
   },
   "outputs": [],
   "source": [
    "buffer_size = 5\n",
    "model = BufferLetterModel(buffer_size, len(list(let_to_id.keys()))).cuda()\n",
    "optimizer = torch.optim.Adam(model.parameters(), lr=.001)\n",
    "loss_func = torch.nn.NLLLoss()"
   ]
  },
  {
   "cell_type": "code",
   "execution_count": 286,
   "metadata": {
    "ExecuteTime": {
     "end_time": "2020-04-03T19:59:07.743565Z",
     "start_time": "2020-04-03T19:58:10.314867Z"
    },
    "scrolled": true
   },
   "outputs": [
    {
     "data": {
      "application/vnd.jupyter.widget-view+json": {
       "model_id": "d3c04ae92e9d4496ab301cc37b4d392c",
       "version_major": 2,
       "version_minor": 0
      },
      "text/plain": [
       "A Jupyter Widget"
      ]
     },
     "metadata": {},
     "output_type": "display_data"
    },
    {
     "ename": "KeyboardInterrupt",
     "evalue": "",
     "output_type": "error",
     "traceback": [
      "\u001b[0;31m---------------------------------------------------------------------------\u001b[0m",
      "\u001b[0;31mKeyboardInterrupt\u001b[0m                         Traceback (most recent call last)",
      "\u001b[0;32m<ipython-input-286-697d91f73cfa>\u001b[0m in \u001b[0;36m<module>\u001b[0;34m()\u001b[0m\n\u001b[1;32m     13\u001b[0m         \u001b[0mout\u001b[0m \u001b[0;34m=\u001b[0m \u001b[0mmodel\u001b[0m\u001b[0;34m(\u001b[0m\u001b[0minps\u001b[0m\u001b[0;34m*\u001b[0m\u001b[0minput_scaling\u001b[0m\u001b[0;34m)\u001b[0m\u001b[0;34m\u001b[0m\u001b[0;34m\u001b[0m\u001b[0m\n\u001b[1;32m     14\u001b[0m         \u001b[0mloss\u001b[0m \u001b[0;34m=\u001b[0m \u001b[0mloss_func\u001b[0m\u001b[0;34m(\u001b[0m\u001b[0mout\u001b[0m\u001b[0;34m,\u001b[0m \u001b[0mtargets\u001b[0m\u001b[0;34m)\u001b[0m\u001b[0;34m\u001b[0m\u001b[0;34m\u001b[0m\u001b[0m\n\u001b[0;32m---> 15\u001b[0;31m         \u001b[0mloss\u001b[0m\u001b[0;34m.\u001b[0m\u001b[0mbackward\u001b[0m\u001b[0;34m(\u001b[0m\u001b[0;34m)\u001b[0m\u001b[0;34m\u001b[0m\u001b[0;34m\u001b[0m\u001b[0m\n\u001b[0m\u001b[1;32m     16\u001b[0m         \u001b[0mloss_track\u001b[0m\u001b[0;34m[\u001b[0m\u001b[0;34m'val'\u001b[0m\u001b[0;34m]\u001b[0m\u001b[0;34m.\u001b[0m\u001b[0mappend\u001b[0m\u001b[0;34m(\u001b[0m\u001b[0mloss\u001b[0m\u001b[0;34m.\u001b[0m\u001b[0mmean\u001b[0m\u001b[0;34m(\u001b[0m\u001b[0;34m)\u001b[0m\u001b[0;34m.\u001b[0m\u001b[0mdetach\u001b[0m\u001b[0;34m(\u001b[0m\u001b[0;34m)\u001b[0m\u001b[0;34m.\u001b[0m\u001b[0mcpu\u001b[0m\u001b[0;34m(\u001b[0m\u001b[0;34m)\u001b[0m\u001b[0;34m.\u001b[0m\u001b[0mnumpy\u001b[0m\u001b[0;34m(\u001b[0m\u001b[0;34m)\u001b[0m\u001b[0;34m)\u001b[0m\u001b[0;34m\u001b[0m\u001b[0;34m\u001b[0m\u001b[0m\n\u001b[1;32m     17\u001b[0m         \u001b[0mloss_track\u001b[0m\u001b[0;34m[\u001b[0m\u001b[0;34m'epoch'\u001b[0m\u001b[0;34m]\u001b[0m\u001b[0;34m.\u001b[0m\u001b[0mappend\u001b[0m\u001b[0;34m(\u001b[0m\u001b[0me\u001b[0m\u001b[0;34m)\u001b[0m\u001b[0;34m\u001b[0m\u001b[0;34m\u001b[0m\u001b[0m\n",
      "\u001b[0;32m~/bin/anaconda3/lib/python3.6/site-packages/torch/tensor.py\u001b[0m in \u001b[0;36mbackward\u001b[0;34m(self, gradient, retain_graph, create_graph)\u001b[0m\n\u001b[1;32m    193\u001b[0m                 \u001b[0mproducts\u001b[0m\u001b[0;34m.\u001b[0m \u001b[0mDefaults\u001b[0m \u001b[0mto\u001b[0m\u001b[0;31m \u001b[0m\u001b[0;31m`\u001b[0m\u001b[0;31m`\u001b[0m\u001b[0;32mFalse\u001b[0m\u001b[0;31m`\u001b[0m\u001b[0;31m`\u001b[0m\u001b[0;34m.\u001b[0m\u001b[0;34m\u001b[0m\u001b[0;34m\u001b[0m\u001b[0m\n\u001b[1;32m    194\u001b[0m         \"\"\"\n\u001b[0;32m--> 195\u001b[0;31m         \u001b[0mtorch\u001b[0m\u001b[0;34m.\u001b[0m\u001b[0mautograd\u001b[0m\u001b[0;34m.\u001b[0m\u001b[0mbackward\u001b[0m\u001b[0;34m(\u001b[0m\u001b[0mself\u001b[0m\u001b[0;34m,\u001b[0m \u001b[0mgradient\u001b[0m\u001b[0;34m,\u001b[0m \u001b[0mretain_graph\u001b[0m\u001b[0;34m,\u001b[0m \u001b[0mcreate_graph\u001b[0m\u001b[0;34m)\u001b[0m\u001b[0;34m\u001b[0m\u001b[0;34m\u001b[0m\u001b[0m\n\u001b[0m\u001b[1;32m    196\u001b[0m \u001b[0;34m\u001b[0m\u001b[0m\n\u001b[1;32m    197\u001b[0m     \u001b[0;32mdef\u001b[0m \u001b[0mregister_hook\u001b[0m\u001b[0;34m(\u001b[0m\u001b[0mself\u001b[0m\u001b[0;34m,\u001b[0m \u001b[0mhook\u001b[0m\u001b[0;34m)\u001b[0m\u001b[0;34m:\u001b[0m\u001b[0;34m\u001b[0m\u001b[0;34m\u001b[0m\u001b[0m\n",
      "\u001b[0;32m~/bin/anaconda3/lib/python3.6/site-packages/torch/autograd/__init__.py\u001b[0m in \u001b[0;36mbackward\u001b[0;34m(tensors, grad_tensors, retain_graph, create_graph, grad_variables)\u001b[0m\n\u001b[1;32m     97\u001b[0m     Variable._execution_engine.run_backward(\n\u001b[1;32m     98\u001b[0m         \u001b[0mtensors\u001b[0m\u001b[0;34m,\u001b[0m \u001b[0mgrad_tensors\u001b[0m\u001b[0;34m,\u001b[0m \u001b[0mretain_graph\u001b[0m\u001b[0;34m,\u001b[0m \u001b[0mcreate_graph\u001b[0m\u001b[0;34m,\u001b[0m\u001b[0;34m\u001b[0m\u001b[0;34m\u001b[0m\u001b[0m\n\u001b[0;32m---> 99\u001b[0;31m         allow_unreachable=True)  # allow_unreachable flag\n\u001b[0m\u001b[1;32m    100\u001b[0m \u001b[0;34m\u001b[0m\u001b[0m\n\u001b[1;32m    101\u001b[0m \u001b[0;34m\u001b[0m\u001b[0m\n",
      "\u001b[0;31mKeyboardInterrupt\u001b[0m: "
     ]
    }
   ],
   "source": [
    "epochs = 3000\n",
    "batch_size = 20\n",
    "progress_bar = tqdm_notebook(range(int(epochs)))\n",
    "loss_track = {\"val\":[], \"epoch\":[], \"batch_num\":[], \"last_correct\":[]}\n",
    "acc = 0\n",
    "for e in progress_bar:\n",
    "    model.reset()\n",
    "    c = 0\n",
    "    for inp_and_tok in tokens.split(batch_size, dim=0):\n",
    "        inps = inp_and_tok[:, :-1, 0]\n",
    "        targets = inp_and_tok[:, -1, 0].type(torch.cuda.LongTensor)\n",
    "        model.zero_grad()\n",
    "        out = model(inps*input_scaling)\n",
    "        loss = loss_func(out, targets)\n",
    "        loss.backward()\n",
    "        loss_track['val'].append(loss.mean().detach().cpu().numpy())\n",
    "        loss_track['epoch'].append(e)\n",
    "        loss_track['batch_num'].append(c)\n",
    "        loss_track['last_correct'].append(acc)\n",
    "        optimizer.step()\n",
    "        c += 1\n",
    "    model.reset()\n",
    "    t = 0\n",
    "    correct = 0\n",
    "    pp = 0\n",
    "    for inp_and_tok in tokens.split(batch_size, dim=0):\n",
    "        inps = inp_and_tok[:, :-1, 0]\n",
    "        targets = inp_and_tok[:, -1, 0].type(torch.cuda.LongTensor)\n",
    "        out = model(inps*input_scaling)\n",
    "\n",
    "        # Accuracy\n",
    "        correct += (out.argmax(-1) == targets).sum().detach().cpu().numpy()\n",
    "        t += inps.shape[0]\n",
    "\n",
    "    acc = correct/t\n",
    "    progress_bar.set_description(\"%i: Acc: %0.4f\" % (e, acc))"
   ]
  },
  {
   "cell_type": "code",
   "execution_count": 235,
   "metadata": {
    "ExecuteTime": {
     "end_time": "2020-04-03T19:08:18.845786Z",
     "start_time": "2020-04-03T19:08:18.833434Z"
    },
    "collapsed": true
   },
   "outputs": [],
   "source": [
    "loss_track = pd.DataFrame(loss_track)"
   ]
  },
  {
   "cell_type": "code",
   "execution_count": 236,
   "metadata": {
    "ExecuteTime": {
     "end_time": "2020-04-03T19:08:19.090938Z",
     "start_time": "2020-04-03T19:08:18.846783Z"
    }
   },
   "outputs": [
    {
     "data": {
      "text/plain": [
       "Text(0.5,1,'Correct Acc over Batches')"
      ]
     },
     "execution_count": 236,
     "metadata": {},
     "output_type": "execute_result"
    },
    {
     "data": {
      "image/png": "[encoded data removed]",
      "text/plain": [
       "<Figure size 1440x720 with 2 Axes>"
      ]
     },
     "metadata": {},
     "output_type": "display_data"
    }
   ],
   "source": [
    "fig = figure(figsize=(20, 10))\n",
    "\n",
    "ax = fig.add_subplot(1,2,1)\n",
    "ax.plot(loss_track['val'])\n",
    "ax.set_xlabel(\"Batch Num\")\n",
    "ax.set_ylabel(\"Loss\")\n",
    "ax.set_title(\"Loss over Batches\")\n",
    "ax = fig.add_subplot(1,2,2)\n",
    "ax.plot(loss_track['last_correct'])\n",
    "ax.set_xlabel(\"Batch Num\")\n",
    "ax.set_ylabel(\"Accuracy\")\n",
    "ax.set_title(\"Correct Acc over Batches\")\n",
    "\n",
    "# Please note that the line that is in the left graph highly fluctuates\n",
    "# based on the batch within an epoch, so it looks like a filled in area but \n",
    "# is actually just a highly fluctuating line. \n",
    "\n",
    "# it should also be noted that a buffer of size 10 will never reach 100% \n",
    "# accuracy with this model. "
   ]
  },
  {
   "cell_type": "markdown",
   "metadata": {},
   "source": [
    "# Test the finished model\n",
    "\n",
    "Prints out the most likely letter to occur when taking in the last letter as input. This cell is just a proof of concept that the model is working at all. "
   ]
  },
  {
   "cell_type": "code",
   "execution_count": 237,
   "metadata": {
    "ExecuteTime": {
     "end_time": "2020-04-03T19:08:19.163166Z",
     "start_time": "2020-04-03T19:08:19.091824Z"
    }
   },
   "outputs": [
    {
     "name": "stdout",
     "output_type": "stream",
     "text": [
      "ID .OU .VENYHEAR THE FRAGEDY OF TARKH PLAGUEIS WHE FASE . ITTHEUGHT HOT H IT<,>S AOT H STORY THI FEDI WOULD EELL YOU . IT<,>S A DTTH <,>EGEND . D RKH PLAGUEIS WAS AFDARK SORDAOF THE FITH <,> BO POWERFUL .ND SO PISE .E COULD ESE THE FORCE TO MNFLUENCE TOE FIDICHLERIANS AO MREATE LIFE . IE CAD SUCH A KNOWLEDGE OF THE FARK SIDE OHET HI COULD EVEN KEEP .HE FNLS HE CORED ABOUT FROM DYING H THE FARK SIDE OF THE FORCE TS APDATHWAY AO MANY TBILITIES SOME COUSIDE  TO ME UNNATURAL . HE CECAME SO POWERFUL . HHE FNLY THING HE CAS AFRAID OF TAS AOSING HES AOWERF<,> WHICH OVEN UALLY <,> OF TOULSE <,> HE CAD . DNFORTUNATELY <,> OE CRUGHT HIM APPRENTICE KVENYTHING HE CNEW <,> THE  HIS APPRENTICE KILLED HIMSIN HIS ALEEP . IT<,>S ARONIC HE COULD EAVE OTHER  FROM DYATH <,> BUT NOT HIMSELF . "
     ]
    }
   ],
   "source": [
    "model.reset()\n",
    "t = 0\n",
    "correct = 0\n",
    "pp = 0\n",
    "for inp_and_tok in tokens.split(20, dim=0):\n",
    "    inps = inp_and_tok[:, :-1, 0]\n",
    "    targets = inp_and_tok[:, -1, 0].type(torch.cuda.LongTensor)\n",
    "    out = model(inps*input_scaling)\n",
    "\n",
    "    # Accuracy\n",
    "    indexes = out.argmax(-1).detach().cpu().numpy()\n",
    "    for i in indexes:\n",
    "        sys.stdout.write(id_to_let[i])\n"
   ]
  },
  {
   "cell_type": "markdown",
   "metadata": {
    "cell_style": "split"
   },
   "source": [
    "# SITH Stuff"
   ]
  },
  {
   "cell_type": "markdown",
   "metadata": {},
   "source": [
    "**GOAL: Learn to predict what letter is coming next given the context of the entire set of letters that came before it.**\n",
    "\n",
    "Instead of using a buffer of the last few letters to predict what letter might be occuring next, I set up this example to use SITH. SITH |has the ability to sparcify the entire history of letters presented to the model, which allows the subsequent layers to see a larger amount of the past than the buffer using the same size model. \n",
    "\n",
    "After this cell, we will be showing off SITH. Firstly is a cell where we pick the parameters to be passed into our SITH layer. Selecting the parameters in sith_params will change where the centers of the temporal receptive fields inside SITH will be located, as well as how small the receptive fields are. Secondly weho over how to add a SITH layer to the above model by replacing the buffer, as well as how to train the model. And like before, we will be showing graphs of loss through time and accuracy through time. You will see that a SITH representation with 10 taustars learns to predict the next letter at 100% accuracy, where a buffer with 10 positions only gets to 99.08% accuracy. "
   ]
  },
  {
   "cell_type": "markdown",
   "metadata": {},
   "source": [
    "## Test the SITH parameters\n",
    "\n",
    "Here, you can pick parameters to be used further down in the model. The parameters for a sith layer are as follows:\n",
    "\n",
    "    Parameters\n",
    "    ----------\n",
    "        in_features: int\n",
    "            Number of tracked features\n",
    "        tau_0: float (default = 1)\n",
    "            The center of the first receptive field in inverse-Lapace space. The\n",
    "            presentation time of each stimulus.\n",
    "        dt: float (default=.1)\n",
    "            The input will be presented to the representation at tau_0 / dt seconds.\n",
    "            This will smooth the exponential decay, and provide a better estimate of \n",
    "            the past in the final inverse-laplace representation.\n",
    "        k: int (default = 4)\n",
    "            The spcificity of the receptive fields\n",
    "        c: float\n",
    "            The degree of historical compression. Smaller numbers means greater\n",
    "            numbers of tau*s will be dedicated to tracking the more recent past\n",
    "        alpha: float\n",
    "        g: float (default = 0)\n",
    "            A conditionditioning parameter. This will determine if the end result \n",
    "            of this layer, big T, is multiplied by tau_stars or not.  If g is 0, \n",
    "            then big T will have smaller and smaller activations further into the \n",
    "            past. If g = 1, then all taustars in big T will activate to the same \n",
    "            level at their peak. g can also be bigger than 1, but should never be \n",
    "            less than 0. \n",
    "        ntau: int (default = 100)\n",
    "            The desired number of taustars in the final representation, before\n",
    "            indexing with T_every\n",
    "        T_every: int\n",
    "            How many tau*s we skip when indexing into the inverse-laplace space\n",
    "            representation, T.\n",
    "\n",
    "This cell will print out a variable called *taustars*. This variable contains the centers of the receptive fields that will be in the output of this layer. When utilizing a SITH layer, pick parameters that give you taustar locations that extend far enough into the past that all relavent information for doing the task will be contained within the SITH representation.  \n",
    "\n",
    "For instance, if you think that there is useful information for your model contained in the inputs that happened 100 inputs into the past, then you need to make sure that your taustars at least go to 100, if not further out. \n",
    "\n",
    "Below, we have a sith-rep set up such that it can track every single letter, and the 3 additional symbol tokens, for more that 761 inputs. But instead of tracking the exact order of these 761+ inputs, we follow weiner vecner scaling laws in our compression turning 761 time points into a log compressed representation with 18 taustars. These taustars have high temporal specificity for the early taustars, and more sparce temporal specificity for the later taustars. \n",
    "\n",
    "Changing tau_0 changes where the first taustar will be located in time.\n",
    "\n",
    "Increasing K will increase the temporal specificity of all taustars, but high values of K combined with low values of c will cause numerical errors.\n",
    "\n",
    "c changes the difference between taustars. Lowever values of c will have much closer together taustars. \n",
    "\n",
    "ntau is the total number of taustars that will be tracked and generated by the model. This number is much larger than the number of taustars that will be outputed to the next layer of your model, however. A lot of them are very redundent, so we index into all of the taustars by skipping every T_every positions. \n",
    "\n",
    "dt should be a significantly small number compared to tau_0. It helps with the smoothness of the internal numerical components of the layer."
   ]
  },
  {
   "cell_type": "code",
   "execution_count": 289,
   "metadata": {
    "ExecuteTime": {
     "end_time": "2020-04-03T19:59:21.379616Z",
     "start_time": "2020-04-03T19:59:21.370397Z"
    },
    "scrolled": true
   },
   "outputs": [
    {
     "name": "stdout",
     "output_type": "stream",
     "text": [
      "[ 1.          2.03703598  4.14951557  8.4527125  17.21847946]\n"
     ]
    }
   ],
   "source": [
    "sith_params ={\"in_features\":len(list(let_to_id.keys())),\n",
    "              \"tau_0\":1, \"k\":8,\n",
    "              \"c\":.024, \"ntau\":150, \"dt\":.1, \n",
    "              \"T_every\":30, \"alpha\":1.0}\n",
    "# This is only for making sure you pick the right parameters\n",
    "sithrep = SITH(**sith_params)\n",
    "sithrep.cuda()\n",
    "taustars = sithrep._tau_star[sith_params['k']:-sith_params['k']:sith_params['T_every']].detach().cpu().numpy()\n",
    "\n",
    "print(taustars)"
   ]
  },
  {
   "cell_type": "markdown",
   "metadata": {},
   "source": [
    "## Define the model\n",
    "\n",
    "It is a simple model that takes in single tokens as input, and generates a prediction of the token that should occur next. \n",
    "\n",
    "The input tensor should be of size (batch, num_tokens) as input, as SITH is able to handle batched input. The output of this layer is a tensor of size (batch, num_tokens\\*num_taustars) because we flatten the output to prepare it for the next layer. The second layer of the model is just a fully connected hidden layer to the output, of size (len(taustars)\\*num_tokens, num_tokens). The output is of size (batch, num_tokens), and is passed through a log_softmax function.\n",
    "\n",
    "The output tensor of this model will assign the highest log proability to the token that is most likely to occur next. "
   ]
  },
  {
   "cell_type": "code",
   "execution_count": 290,
   "metadata": {
    "ExecuteTime": {
     "end_time": "2020-04-03T19:59:22.274561Z",
     "start_time": "2020-04-03T19:59:22.256734Z"
    },
    "collapsed": true
   },
   "outputs": [],
   "source": [
    "class SITHLetterModel(torch.nn.Module):\n",
    "    def __init__(self, sith_params, num_tokens, torch_type=\"double\", sith_cuda=True):\n",
    "        super(SITHLetterModel, self).__init__()\n",
    "        self.sith = SITH(**sith_params)\n",
    "        if sith_cuda:\n",
    "            self.sith.cuda()\n",
    "        num_taustars = self.sith._tau_star[sith_params['k']:-sith_params['k']:sith_params['T_every']].shape[0]\n",
    "        if torch_type == \"double\":\n",
    "            self.linear = torch.nn.Linear(num_tokens*num_taustars, num_tokens).double()\n",
    "        elif torch_type == \"float\":\n",
    "            self.linear = torch.nn.Linear(num_tokens*num_taustars, num_tokens).float()\n",
    "    def reset(self):\n",
    "        self.sith.reset()\n",
    "\n",
    "        \n",
    "    def forward(self, inputs):\n",
    "        batch_size = inputs.shape[0]\n",
    "        x = F.relu(self.sith(inputs)).view(batch_size, -1)\n",
    "        x = self.linear(x)\n",
    "        log_probs = F.log_softmax(x, dim=-1)\n",
    "        return log_probs\n"
   ]
  },
  {
   "cell_type": "markdown",
   "metadata": {},
   "source": [
    "## Define and Train the Model"
   ]
  },
  {
   "cell_type": "code",
   "execution_count": 291,
   "metadata": {
    "ExecuteTime": {
     "end_time": "2020-04-03T19:59:23.209743Z",
     "start_time": "2020-04-03T19:59:23.202576Z"
    },
    "collapsed": true
   },
   "outputs": [],
   "source": [
    "model = SITHLetterModel(sith_params, len(list(let_to_id.keys()))).cuda()\n",
    "optimizer = torch.optim.Adam(model.parameters(), lr=.001)\n",
    "loss_func = torch.nn.NLLLoss()\n",
    "input_scaling = 10"
   ]
  },
  {
   "cell_type": "code",
   "execution_count": 292,
   "metadata": {
    "ExecuteTime": {
     "end_time": "2020-04-03T20:10:36.062912Z",
     "start_time": "2020-04-03T19:59:23.838722Z"
    }
   },
   "outputs": [
    {
     "data": {
      "application/vnd.jupyter.widget-view+json": {
       "model_id": "86cf537e76d342f3b51f8ee45ab1fc87",
       "version_major": 2,
       "version_minor": 0
      },
      "text/plain": [
       "A Jupyter Widget"
      ]
     },
     "metadata": {},
     "output_type": "display_data"
    }
   ],
   "source": [
    "epochs = 3000\n",
    "batch_size = 20\n",
    "progress_bar = tqdm_notebook(range(int(epochs)))\n",
    "loss_track = {\"val\":[], \"epoch\":[], \"batch_num\":[], \"last_correct\":[]}\n",
    "acc = 0\n",
    "for e in progress_bar:\n",
    "    model.reset()\n",
    "    c = 0\n",
    "    for inp_and_tok in tokens.split(batch_size, dim=0):\n",
    "        # Break data into input tokens and targets for that token, both of \n",
    "        # size, batch size. \n",
    "        inps = inp_and_tok[:, :-1, 0]\n",
    "        targets = inp_and_tok[:, -1, 0].type(torch.cuda.LongTensor)\n",
    "        \n",
    "        model.zero_grad()\n",
    "        # Present an entire batch to the model\n",
    "        out = model(inps*input_scaling)\n",
    "        \n",
    "        # Measure loss via Negative Log Likelyhood\n",
    "        loss = loss_func(out, targets)\n",
    "        loss.backward()\n",
    "        \n",
    "        # Record loss, epoch number, batch number in epoch, \n",
    "        # last accuracy measure, etc\n",
    "        loss_track['val'].append(loss.mean().detach().cpu().numpy())\n",
    "        loss_track['epoch'].append(e)\n",
    "        loss_track['batch_num'].append(c)\n",
    "        loss_track['last_correct'].append(acc)\n",
    "        \n",
    "        optimizer.step()\n",
    "        c += 1\n",
    "    \n",
    "    model.reset()\n",
    "    t = 0\n",
    "    correct = 0\n",
    "    pp = 0\n",
    "    # Test for accuracy\n",
    "    for inp_and_tok in tokens.split(batch_size, dim=0):\n",
    "        inps = inp_and_tok[:, :-1, 0]\n",
    "        targets = inp_and_tok[:, -1, 0].type(torch.cuda.LongTensor)\n",
    "        out = model(inps*input_scaling)\n",
    "\n",
    "        # Accuracy: If the maximum value in the output is at the same\n",
    "        # position as the target id for that input token, then we count it as\n",
    "        # a correct response\n",
    "        correct += (out.argmax(-1) == targets).sum().detach().cpu().numpy()\n",
    "        t += inps.shape[0]\n",
    "\n",
    "    acc = correct/t\n",
    "    progress_bar.set_description(\"%i: Acc: %0.4f\" % (e, acc))"
   ]
  },
  {
   "cell_type": "code",
   "execution_count": null,
   "metadata": {
    "ExecuteTime": {
     "end_time": "2020-04-03T19:32:46.664148Z",
     "start_time": "2020-04-03T19:32:13.425Z"
    },
    "collapsed": true
   },
   "outputs": [],
   "source": [
    "loss_track = pd.DataFrame(loss_track)"
   ]
  },
  {
   "cell_type": "code",
   "execution_count": null,
   "metadata": {
    "ExecuteTime": {
     "end_time": "2020-04-03T19:32:46.664859Z",
     "start_time": "2020-04-03T19:32:13.772Z"
    }
   },
   "outputs": [],
   "source": [
    "fig = figure(figsize=(20, 10))\n",
    "\n",
    "ax = fig.add_subplot(1,2,1)\n",
    "ax.plot(loss_track['val'])\n",
    "ax.set_xlabel(\"Batch Num\")\n",
    "ax.set_ylabel(\"Loss\")\n",
    "ax.set_title(\"Loss over Batches\")\n",
    "ax = fig.add_subplot(1,2,2)\n",
    "ax.plot(loss_track['last_correct'])\n",
    "ax.set_xlabel(\"Batch Num\")\n",
    "ax.set_ylabel(\"Accuracy\")\n",
    "ax.set_title(\"Correct Acc over Batches\")\n",
    "# Please note that the line that is in the left graph highly fluctuates\n",
    "# based on the batch within an epoch, so it looks like a filled in area but \n",
    "# is actually just a highly fluctuating line. "
   ]
  },
  {
   "cell_type": "markdown",
   "metadata": {},
   "source": [
    "# Test the finished model\n",
    "\n",
    "Prints out the most likely letter to occur when taking in the last letter as input. This cell is just a proof of concept that the model is working at all. "
   ]
  },
  {
   "cell_type": "code",
   "execution_count": null,
   "metadata": {
    "ExecuteTime": {
     "end_time": "2020-04-03T19:32:46.665369Z",
     "start_time": "2020-04-03T19:32:14.689Z"
    }
   },
   "outputs": [],
   "source": [
    "model.reset()\n",
    "t = 0\n",
    "correct = 0\n",
    "pp = 0\n",
    "for inp_and_tok in tokens.split(20, dim=0):\n",
    "    inps = inp_and_tok[:, :-1, 0]\n",
    "    targets = inp_and_tok[:, -1, 0].type(torch.cuda.LongTensor)\n",
    "    out = model(inps*input_scaling)\n",
    "\n",
    "    # Accuracy\n",
    "    indexes = out.argmax(-1).detach().cpu().numpy()\n",
    "    for i in indexes:\n",
    "        sys.stdout.write(id_to_let[i])\n"
   ]
  },
  {
   "cell_type": "code",
   "execution_count": null,
   "metadata": {
    "collapsed": true
   },
   "outputs": [],
   "source": []
  }
 ],
 "metadata": {
  "kernelspec": {
   "display_name": "Python 3",
   "language": "python",
   "name": "python3"
  },
  "language_info": {
   "codemirror_mode": {
    "name": "ipython",
    "version": 3
   },
   "file_extension": ".py",
   "mimetype": "text/x-python",
   "name": "python",
   "nbconvert_exporter": "python",
   "pygments_lexer": "ipython3",
   "version": "3.6.8"
  },
  "toc": {
   "nav_menu": {},
   "number_sections": true,
   "sideBar": true,
   "skip_h1_title": false,
   "title_cell": "Table of Contents",
   "title_sidebar": "Contents",
   "toc_cell": false,
   "toc_position": {},
   "toc_section_display": true,
   "toc_window_display": false
  }
 },
 "nbformat": 4,
 "nbformat_minor": 2
}
